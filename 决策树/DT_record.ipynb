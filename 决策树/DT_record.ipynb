{
    "cells": [
        {
            "cell_type": "markdown",
            "source": [
                "决策树（Decision Tree）是一种非参数的有监督学习方法，它能够从一系列有特征和标签的数据中总结出决策规则，并用树状图的结构来呈现这些规则，以解决分类和回归问题。决策树算法容易理解，适用各种数据，在解决各种问题时都有良好表现，尤其是以树模型为核心的各种集成算法，在各个行业和领域都有广泛的应用。"
            ],
            "metadata": {}
        },
        {
            "cell_type": "markdown",
            "source": [
                "决策树算法的核心是要解决两个问题：<br/>\r\n",
                "1.如何从数据表中找出最佳节点和最佳分枝？<br/>\r\n",
                "2.如何让决策树停止生长，防止过拟合？<br/>\r\n",
                "几乎所有决策树有关的模型调整方法，都围绕这两个问题展开。<br/>\r\n",
                "[决策树原理](https://www.cnblogs.com/bind/p/12102750.html)<br/>"
            ],
            "metadata": {}
        },
        {
            "cell_type": "markdown",
            "source": [
                "模块sklearn.tree\r\n",
                "sklearn中决策树的类都在”tree“这个模块之下。这个模块总共包含五个类：\r\n",
                "| 调用                        | 树                                    |\r\n",
                "| --------------------------- | ------------------------------------- |\r\n",
                "| tree.DecisionTreeClassifier | 分类树                                |\r\n",
                "| tree.DecisionTreeRegressor  | 回归树                                |\r\n",
                "| tree.export_graphviz        | 将生成的决策树导出为DOT格式，画图专用 |\r\n",
                "| tree.ExtraTreeClassifier    | 高随机版本的分类树                    |\r\n",
                "| tree.ExtraTreeRegressor     | 高随机版本的回归树                    |"
            ],
            "metadata": {}
        },
        {
            "cell_type": "markdown",
            "source": [
                "sklearn的基本建模流程<br>\r\n",
                "![image-20210807200050239](https://cdn.jsdelivr.net/gh/zEpoch/imageHome/img/image-20210807200050239.png)\r\n",
                "<br>\r\n",
                "在这个流程下，分类树对应的代码是：\r\n",
                "<br>\r\n",
                "\r\n",
                "\r\n",
                "```python\r\n",
                "from sklearn import tree #导入需要的模块\r\n",
                "clf = tree.DecisionTreeClassifier()     #实例化\r\n",
                "clf = clf.fit(X_train,y_train) #用训练集数据训练模型\r\n",
                "result = clf.score(X_test,y_test) #导入测试集，从接口中调用需要的信息\r\n",
                "```\r\n",
                "\r\n"
            ],
            "metadata": {}
        },
        {
            "cell_type": "code",
            "execution_count": 22,
            "source": [
                "# 步骤1 导入需要的算法库和模块\r\n",
                "from sklearn import tree\r\n",
                "from sklearn.datasets import load_wine\r\n",
                "from sklearn.model_selection import train_test_split"
            ],
            "outputs": [],
            "metadata": {}
        },
        {
            "cell_type": "code",
            "execution_count": 23,
            "source": [
                "# 步骤2 导入数据\r\n",
                "wine = load_wine()\r\n",
                "print(\"wine.data.shape:\\n\",wine.data.shape)\r\n",
                "#如果wine是一张表，应该长这样：\r\n",
                "import pandas as pd\r\n",
                "pd.concat([pd.DataFrame(wine.data),pd.DataFrame(wine.target)],axis=1)\r\n",
                "print(\"wine.feature_names:\\n\",wine.feature_names)\r\n",
                "print(\"wine.feature_names:\\n\",wine.target_names)"
            ],
            "outputs": [
                {
                    "output_type": "stream",
                    "name": "stdout",
                    "text": [
                        "wine.data.shape:\n",
                        " (178, 13)\n",
                        "wine.feature_names:\n",
                        " ['alcohol', 'malic_acid', 'ash', 'alcalinity_of_ash', 'magnesium', 'total_phenols', 'flavanoids', 'nonflavanoid_phenols', 'proanthocyanins', 'color_intensity', 'hue', 'od280/od315_of_diluted_wines', 'proline']\n",
                        "wine.feature_names:\n",
                        " ['class_0' 'class_1' 'class_2']\n"
                    ]
                }
            ],
            "metadata": {}
        },
        {
            "cell_type": "code",
            "execution_count": 24,
            "source": [
                "# 步骤3 分训练集和测试集\r\n",
                "Xtrain, Xtest, Ytrain, Ytest = train_test_split(wine.data, wine.target,test_size=0.3)\r\n",
                "print(Xtrain.shape,Xtest.shape)"
            ],
            "outputs": [
                {
                    "output_type": "stream",
                    "name": "stdout",
                    "text": [
                        "(124, 13) (54, 13)\n"
                    ]
                }
            ],
            "metadata": {}
        },
        {
            "cell_type": "code",
            "execution_count": 25,
            "source": [
                "# 步骤4 建立模型\r\n",
                "clf = tree.DecisionTreeClassifier(\r\n",
                "    criterion=\"entropy\"\r\n",
                ")\r\n",
                "clf = clf.fit(Xtrain,Ytrain)\r\n",
                "score = clf.score(Xtest, Ytest)\r\n",
                "print(score)"
            ],
            "outputs": [
                {
                    "output_type": "stream",
                    "name": "stdout",
                    "text": [
                        "1.0\n"
                    ]
                }
            ],
            "metadata": {}
        },
        {
            "cell_type": "code",
            "execution_count": 26,
            "source": [
                "# 步骤5 画出一棵树\r\n",
                "feature_names = ['酒精','苹果酸','灰','灰的碱性','镁','总酚','类黄酮','非黄烷类酚类','花青素','颜色强度','色调','od280/od315稀释葡萄酒','脯氨酸']\r\n",
                "import graphviz\r\n",
                "dot_data = tree.export_graphviz(\r\n",
                "    clf\r\n",
                "    ,feature_names=feature_names\r\n",
                "    ,class_names=[\"琴酒\",\"雪梨\",\"贝尔摩特\"] # 分为三类，三类的名字\r\n",
                "    ,filled=True\r\n",
                "    ,rounded=True # 圆角\r\n",
                ")\r\n",
                "graph = graphviz.Source(dot_data)\r\n",
                "graph"
            ],
            "outputs": [
                {
                    "output_type": "execute_result",
                    "data": {
                        "text/plain": [
                            "<graphviz.files.Source at 0x23861a12ca0>"
                        ],
                        "image/svg+xml": "<?xml version=\"1.0\" encoding=\"UTF-8\" standalone=\"no\"?>\r\n<!DOCTYPE svg PUBLIC \"-//W3C//DTD SVG 1.1//EN\"\r\n \"http://www.w3.org/Graphics/SVG/1.1/DTD/svg11.dtd\">\r\n<!-- Generated by graphviz version 2.38.0 (20140413.2041)\r\n -->\r\n<!-- Title: Tree Pages: 1 -->\r\n<svg width=\"805pt\" height=\"552pt\"\r\n viewBox=\"0.00 0.00 805.00 552.00\" xmlns=\"http://www.w3.org/2000/svg\" xmlns:xlink=\"http://www.w3.org/1999/xlink\">\r\n<g id=\"graph0\" class=\"graph\" transform=\"scale(1 1) rotate(0) translate(4 548)\">\r\n<title>Tree</title>\r\n<polygon fill=\"white\" stroke=\"none\" points=\"-4,4 -4,-548 801,-548 801,4 -4,4\"/>\r\n<!-- 0 -->\r\n<g id=\"node1\" class=\"node\"><title>0</title>\r\n<path fill=\"#defbea\" stroke=\"black\" d=\"M353,-544C353,-544 240,-544 240,-544 234,-544 228,-538 228,-532 228,-532 228,-473 228,-473 228,-467 234,-461 240,-461 240,-461 353,-461 353,-461 359,-461 365,-467 365,-473 365,-473 365,-532 365,-532 365,-538 359,-544 353,-544\"/>\r\n<text text-anchor=\"middle\" x=\"296.5\" y=\"-528.8\" font-family=\"Helvetica,sans-Serif\" font-size=\"14.00\">类黄酮 &lt;= 1.575</text>\r\n<text text-anchor=\"middle\" x=\"296.5\" y=\"-513.8\" font-family=\"Helvetica,sans-Serif\" font-size=\"14.00\">entropy = 1.544</text>\r\n<text text-anchor=\"middle\" x=\"296.5\" y=\"-498.8\" font-family=\"Helvetica,sans-Serif\" font-size=\"14.00\">samples = 124</text>\r\n<text text-anchor=\"middle\" x=\"296.5\" y=\"-483.8\" font-family=\"Helvetica,sans-Serif\" font-size=\"14.00\">value = [30, 54, 40]</text>\r\n<text text-anchor=\"middle\" x=\"296.5\" y=\"-468.8\" font-family=\"Helvetica,sans-Serif\" font-size=\"14.00\">class = 雪梨</text>\r\n</g>\r\n<!-- 1 -->\r\n<g id=\"node2\" class=\"node\"><title>1</title>\r\n<path fill=\"#a06aec\" stroke=\"black\" d=\"M245,-425C245,-425 140,-425 140,-425 134,-425 128,-419 128,-413 128,-413 128,-354 128,-354 128,-348 134,-342 140,-342 140,-342 245,-342 245,-342 251,-342 257,-348 257,-354 257,-354 257,-413 257,-413 257,-419 251,-425 245,-425\"/>\r\n<text text-anchor=\"middle\" x=\"192.5\" y=\"-409.8\" font-family=\"Helvetica,sans-Serif\" font-size=\"14.00\">颜色强度 &lt;= 3.725</text>\r\n<text text-anchor=\"middle\" x=\"192.5\" y=\"-394.8\" font-family=\"Helvetica,sans-Serif\" font-size=\"14.00\">entropy = 0.722</text>\r\n<text text-anchor=\"middle\" x=\"192.5\" y=\"-379.8\" font-family=\"Helvetica,sans-Serif\" font-size=\"14.00\">samples = 50</text>\r\n<text text-anchor=\"middle\" x=\"192.5\" y=\"-364.8\" font-family=\"Helvetica,sans-Serif\" font-size=\"14.00\">value = [0, 10, 40]</text>\r\n<text text-anchor=\"middle\" x=\"192.5\" y=\"-349.8\" font-family=\"Helvetica,sans-Serif\" font-size=\"14.00\">class = 贝尔摩特</text>\r\n</g>\r\n<!-- 0&#45;&gt;1 -->\r\n<g id=\"edge1\" class=\"edge\"><title>0&#45;&gt;1</title>\r\n<path fill=\"none\" stroke=\"black\" d=\"M260.418,-460.907C252.351,-451.832 243.719,-442.121 235.406,-432.769\"/>\r\n<polygon fill=\"black\" stroke=\"black\" points=\"237.778,-430.17 228.518,-425.021 232.546,-434.82 237.778,-430.17\"/>\r\n<text text-anchor=\"middle\" x=\"227.05\" y=\"-446.278\" font-family=\"Helvetica,sans-Serif\" font-size=\"14.00\">True</text>\r\n</g>\r\n<!-- 6 -->\r\n<g id=\"node7\" class=\"node\"><title>6</title>\r\n<path fill=\"#c0f7d7\" stroke=\"black\" d=\"M453,-425C453,-425 348,-425 348,-425 342,-425 336,-419 336,-413 336,-413 336,-354 336,-354 336,-348 342,-342 348,-342 348,-342 453,-342 453,-342 459,-342 465,-348 465,-354 465,-354 465,-413 465,-413 465,-419 459,-425 453,-425\"/>\r\n<text text-anchor=\"middle\" x=\"400.5\" y=\"-409.8\" font-family=\"Helvetica,sans-Serif\" font-size=\"14.00\">脯氨酸 &lt;= 724.5</text>\r\n<text text-anchor=\"middle\" x=\"400.5\" y=\"-394.8\" font-family=\"Helvetica,sans-Serif\" font-size=\"14.00\">entropy = 0.974</text>\r\n<text text-anchor=\"middle\" x=\"400.5\" y=\"-379.8\" font-family=\"Helvetica,sans-Serif\" font-size=\"14.00\">samples = 74</text>\r\n<text text-anchor=\"middle\" x=\"400.5\" y=\"-364.8\" font-family=\"Helvetica,sans-Serif\" font-size=\"14.00\">value = [30, 44, 0]</text>\r\n<text text-anchor=\"middle\" x=\"400.5\" y=\"-349.8\" font-family=\"Helvetica,sans-Serif\" font-size=\"14.00\">class = 雪梨</text>\r\n</g>\r\n<!-- 0&#45;&gt;6 -->\r\n<g id=\"edge6\" class=\"edge\"><title>0&#45;&gt;6</title>\r\n<path fill=\"none\" stroke=\"black\" d=\"M332.582,-460.907C340.649,-451.832 349.281,-442.121 357.594,-432.769\"/>\r\n<polygon fill=\"black\" stroke=\"black\" points=\"360.454,-434.82 364.482,-425.021 355.222,-430.17 360.454,-434.82\"/>\r\n<text text-anchor=\"middle\" x=\"365.95\" y=\"-446.278\" font-family=\"Helvetica,sans-Serif\" font-size=\"14.00\">False</text>\r\n</g>\r\n<!-- 2 -->\r\n<g id=\"node3\" class=\"node\"><title>2</title>\r\n<path fill=\"#39e581\" stroke=\"black\" d=\"M101,-298.5C101,-298.5 12,-298.5 12,-298.5 6,-298.5 0,-292.5 0,-286.5 0,-286.5 0,-242.5 0,-242.5 0,-236.5 6,-230.5 12,-230.5 12,-230.5 101,-230.5 101,-230.5 107,-230.5 113,-236.5 113,-242.5 113,-242.5 113,-286.5 113,-286.5 113,-292.5 107,-298.5 101,-298.5\"/>\r\n<text text-anchor=\"middle\" x=\"56.5\" y=\"-283.3\" font-family=\"Helvetica,sans-Serif\" font-size=\"14.00\">entropy = 0.0</text>\r\n<text text-anchor=\"middle\" x=\"56.5\" y=\"-268.3\" font-family=\"Helvetica,sans-Serif\" font-size=\"14.00\">samples = 9</text>\r\n<text text-anchor=\"middle\" x=\"56.5\" y=\"-253.3\" font-family=\"Helvetica,sans-Serif\" font-size=\"14.00\">value = [0, 9, 0]</text>\r\n<text text-anchor=\"middle\" x=\"56.5\" y=\"-238.3\" font-family=\"Helvetica,sans-Serif\" font-size=\"14.00\">class = 雪梨</text>\r\n</g>\r\n<!-- 1&#45;&gt;2 -->\r\n<g id=\"edge2\" class=\"edge\"><title>1&#45;&gt;2</title>\r\n<path fill=\"none\" stroke=\"black\" d=\"M145.315,-341.907C131.591,-330.101 116.615,-317.217 102.937,-305.45\"/>\r\n<polygon fill=\"black\" stroke=\"black\" points=\"104.916,-302.535 95.053,-298.667 100.351,-307.842 104.916,-302.535\"/>\r\n</g>\r\n<!-- 3 -->\r\n<g id=\"node4\" class=\"node\"><title>3</title>\r\n<path fill=\"#843ee6\" stroke=\"black\" d=\"M241.5,-306C241.5,-306 143.5,-306 143.5,-306 137.5,-306 131.5,-300 131.5,-294 131.5,-294 131.5,-235 131.5,-235 131.5,-229 137.5,-223 143.5,-223 143.5,-223 241.5,-223 241.5,-223 247.5,-223 253.5,-229 253.5,-235 253.5,-235 253.5,-294 253.5,-294 253.5,-300 247.5,-306 241.5,-306\"/>\r\n<text text-anchor=\"middle\" x=\"192.5\" y=\"-290.8\" font-family=\"Helvetica,sans-Serif\" font-size=\"14.00\">灰的碱性 &lt;= 17.15</text>\r\n<text text-anchor=\"middle\" x=\"192.5\" y=\"-275.8\" font-family=\"Helvetica,sans-Serif\" font-size=\"14.00\">entropy = 0.165</text>\r\n<text text-anchor=\"middle\" x=\"192.5\" y=\"-260.8\" font-family=\"Helvetica,sans-Serif\" font-size=\"14.00\">samples = 41</text>\r\n<text text-anchor=\"middle\" x=\"192.5\" y=\"-245.8\" font-family=\"Helvetica,sans-Serif\" font-size=\"14.00\">value = [0, 1, 40]</text>\r\n<text text-anchor=\"middle\" x=\"192.5\" y=\"-230.8\" font-family=\"Helvetica,sans-Serif\" font-size=\"14.00\">class = 贝尔摩特</text>\r\n</g>\r\n<!-- 1&#45;&gt;3 -->\r\n<g id=\"edge3\" class=\"edge\"><title>1&#45;&gt;3</title>\r\n<path fill=\"none\" stroke=\"black\" d=\"M192.5,-341.907C192.5,-333.649 192.5,-324.864 192.5,-316.302\"/>\r\n<polygon fill=\"black\" stroke=\"black\" points=\"196,-316.021 192.5,-306.021 189,-316.021 196,-316.021\"/>\r\n</g>\r\n<!-- 4 -->\r\n<g id=\"node5\" class=\"node\"><title>4</title>\r\n<path fill=\"#39e581\" stroke=\"black\" d=\"M102,-179.5C102,-179.5 13,-179.5 13,-179.5 7,-179.5 1,-173.5 1,-167.5 1,-167.5 1,-123.5 1,-123.5 1,-117.5 7,-111.5 13,-111.5 13,-111.5 102,-111.5 102,-111.5 108,-111.5 114,-117.5 114,-123.5 114,-123.5 114,-167.5 114,-167.5 114,-173.5 108,-179.5 102,-179.5\"/>\r\n<text text-anchor=\"middle\" x=\"57.5\" y=\"-164.3\" font-family=\"Helvetica,sans-Serif\" font-size=\"14.00\">entropy = 0.0</text>\r\n<text text-anchor=\"middle\" x=\"57.5\" y=\"-149.3\" font-family=\"Helvetica,sans-Serif\" font-size=\"14.00\">samples = 1</text>\r\n<text text-anchor=\"middle\" x=\"57.5\" y=\"-134.3\" font-family=\"Helvetica,sans-Serif\" font-size=\"14.00\">value = [0, 1, 0]</text>\r\n<text text-anchor=\"middle\" x=\"57.5\" y=\"-119.3\" font-family=\"Helvetica,sans-Serif\" font-size=\"14.00\">class = 雪梨</text>\r\n</g>\r\n<!-- 3&#45;&gt;4 -->\r\n<g id=\"edge4\" class=\"edge\"><title>3&#45;&gt;4</title>\r\n<path fill=\"none\" stroke=\"black\" d=\"M145.662,-222.907C132.039,-211.101 117.173,-198.217 103.596,-186.45\"/>\r\n<polygon fill=\"black\" stroke=\"black\" points=\"105.619,-183.571 95.7695,-179.667 101.034,-188.861 105.619,-183.571\"/>\r\n</g>\r\n<!-- 5 -->\r\n<g id=\"node6\" class=\"node\"><title>5</title>\r\n<path fill=\"#8139e5\" stroke=\"black\" d=\"M241,-179.5C241,-179.5 144,-179.5 144,-179.5 138,-179.5 132,-173.5 132,-167.5 132,-167.5 132,-123.5 132,-123.5 132,-117.5 138,-111.5 144,-111.5 144,-111.5 241,-111.5 241,-111.5 247,-111.5 253,-117.5 253,-123.5 253,-123.5 253,-167.5 253,-167.5 253,-173.5 247,-179.5 241,-179.5\"/>\r\n<text text-anchor=\"middle\" x=\"192.5\" y=\"-164.3\" font-family=\"Helvetica,sans-Serif\" font-size=\"14.00\">entropy = 0.0</text>\r\n<text text-anchor=\"middle\" x=\"192.5\" y=\"-149.3\" font-family=\"Helvetica,sans-Serif\" font-size=\"14.00\">samples = 40</text>\r\n<text text-anchor=\"middle\" x=\"192.5\" y=\"-134.3\" font-family=\"Helvetica,sans-Serif\" font-size=\"14.00\">value = [0, 0, 40]</text>\r\n<text text-anchor=\"middle\" x=\"192.5\" y=\"-119.3\" font-family=\"Helvetica,sans-Serif\" font-size=\"14.00\">class = 贝尔摩特</text>\r\n</g>\r\n<!-- 3&#45;&gt;5 -->\r\n<g id=\"edge5\" class=\"edge\"><title>3&#45;&gt;5</title>\r\n<path fill=\"none\" stroke=\"black\" d=\"M192.5,-222.907C192.5,-212.204 192.5,-200.615 192.5,-189.776\"/>\r\n<polygon fill=\"black\" stroke=\"black\" points=\"196,-189.667 192.5,-179.667 189,-189.667 196,-189.667\"/>\r\n</g>\r\n<!-- 7 -->\r\n<g id=\"node8\" class=\"node\"><title>7</title>\r\n<path fill=\"#3ee684\" stroke=\"black\" d=\"M449,-306C449,-306 352,-306 352,-306 346,-306 340,-300 340,-294 340,-294 340,-235 340,-235 340,-229 346,-223 352,-223 352,-223 449,-223 449,-223 455,-223 461,-229 461,-235 461,-235 461,-294 461,-294 461,-300 455,-306 449,-306\"/>\r\n<text text-anchor=\"middle\" x=\"400.5\" y=\"-290.8\" font-family=\"Helvetica,sans-Serif\" font-size=\"14.00\">酒精 &lt;= 13.175</text>\r\n<text text-anchor=\"middle\" x=\"400.5\" y=\"-275.8\" font-family=\"Helvetica,sans-Serif\" font-size=\"14.00\">entropy = 0.162</text>\r\n<text text-anchor=\"middle\" x=\"400.5\" y=\"-260.8\" font-family=\"Helvetica,sans-Serif\" font-size=\"14.00\">samples = 42</text>\r\n<text text-anchor=\"middle\" x=\"400.5\" y=\"-245.8\" font-family=\"Helvetica,sans-Serif\" font-size=\"14.00\">value = [1, 41, 0]</text>\r\n<text text-anchor=\"middle\" x=\"400.5\" y=\"-230.8\" font-family=\"Helvetica,sans-Serif\" font-size=\"14.00\">class = 雪梨</text>\r\n</g>\r\n<!-- 6&#45;&gt;7 -->\r\n<g id=\"edge7\" class=\"edge\"><title>6&#45;&gt;7</title>\r\n<path fill=\"none\" stroke=\"black\" d=\"M400.5,-341.907C400.5,-333.649 400.5,-324.864 400.5,-316.302\"/>\r\n<polygon fill=\"black\" stroke=\"black\" points=\"404,-316.021 400.5,-306.021 397,-316.021 404,-316.021\"/>\r\n</g>\r\n<!-- 12 -->\r\n<g id=\"node13\" class=\"node\"><title>12</title>\r\n<path fill=\"#e88e4d\" stroke=\"black\" d=\"M650,-306C650,-306 553,-306 553,-306 547,-306 541,-300 541,-294 541,-294 541,-235 541,-235 541,-229 547,-223 553,-223 553,-223 650,-223 650,-223 656,-223 662,-229 662,-235 662,-235 662,-294 662,-294 662,-300 656,-306 650,-306\"/>\r\n<text text-anchor=\"middle\" x=\"601.5\" y=\"-290.8\" font-family=\"Helvetica,sans-Serif\" font-size=\"14.00\">颜色强度 &lt;= 3.46</text>\r\n<text text-anchor=\"middle\" x=\"601.5\" y=\"-275.8\" font-family=\"Helvetica,sans-Serif\" font-size=\"14.00\">entropy = 0.449</text>\r\n<text text-anchor=\"middle\" x=\"601.5\" y=\"-260.8\" font-family=\"Helvetica,sans-Serif\" font-size=\"14.00\">samples = 32</text>\r\n<text text-anchor=\"middle\" x=\"601.5\" y=\"-245.8\" font-family=\"Helvetica,sans-Serif\" font-size=\"14.00\">value = [29, 3, 0]</text>\r\n<text text-anchor=\"middle\" x=\"601.5\" y=\"-230.8\" font-family=\"Helvetica,sans-Serif\" font-size=\"14.00\">class = 琴酒</text>\r\n</g>\r\n<!-- 6&#45;&gt;12 -->\r\n<g id=\"edge12\" class=\"edge\"><title>6&#45;&gt;12</title>\r\n<path fill=\"none\" stroke=\"black\" d=\"M465.204,-344.836C486.487,-332.448 510.233,-318.626 531.866,-306.033\"/>\r\n<polygon fill=\"black\" stroke=\"black\" points=\"533.794,-308.961 540.676,-300.905 530.272,-302.911 533.794,-308.961\"/>\r\n</g>\r\n<!-- 8 -->\r\n<g id=\"node9\" class=\"node\"><title>8</title>\r\n<path fill=\"#39e581\" stroke=\"black\" d=\"M380,-179.5C380,-179.5 283,-179.5 283,-179.5 277,-179.5 271,-173.5 271,-167.5 271,-167.5 271,-123.5 271,-123.5 271,-117.5 277,-111.5 283,-111.5 283,-111.5 380,-111.5 380,-111.5 386,-111.5 392,-117.5 392,-123.5 392,-123.5 392,-167.5 392,-167.5 392,-173.5 386,-179.5 380,-179.5\"/>\r\n<text text-anchor=\"middle\" x=\"331.5\" y=\"-164.3\" font-family=\"Helvetica,sans-Serif\" font-size=\"14.00\">entropy = 0.0</text>\r\n<text text-anchor=\"middle\" x=\"331.5\" y=\"-149.3\" font-family=\"Helvetica,sans-Serif\" font-size=\"14.00\">samples = 38</text>\r\n<text text-anchor=\"middle\" x=\"331.5\" y=\"-134.3\" font-family=\"Helvetica,sans-Serif\" font-size=\"14.00\">value = [0, 38, 0]</text>\r\n<text text-anchor=\"middle\" x=\"331.5\" y=\"-119.3\" font-family=\"Helvetica,sans-Serif\" font-size=\"14.00\">class = 雪梨</text>\r\n</g>\r\n<!-- 7&#45;&gt;8 -->\r\n<g id=\"edge8\" class=\"edge\"><title>7&#45;&gt;8</title>\r\n<path fill=\"none\" stroke=\"black\" d=\"M376.561,-222.907C369.988,-211.763 362.85,-199.658 356.233,-188.439\"/>\r\n<polygon fill=\"black\" stroke=\"black\" points=\"359.155,-186.503 351.06,-179.667 353.125,-190.059 359.155,-186.503\"/>\r\n</g>\r\n<!-- 9 -->\r\n<g id=\"node10\" class=\"node\"><title>9</title>\r\n<path fill=\"#7beeab\" stroke=\"black\" d=\"M514.5,-187C514.5,-187 422.5,-187 422.5,-187 416.5,-187 410.5,-181 410.5,-175 410.5,-175 410.5,-116 410.5,-116 410.5,-110 416.5,-104 422.5,-104 422.5,-104 514.5,-104 514.5,-104 520.5,-104 526.5,-110 526.5,-116 526.5,-116 526.5,-175 526.5,-175 526.5,-181 520.5,-187 514.5,-187\"/>\r\n<text text-anchor=\"middle\" x=\"468.5\" y=\"-171.8\" font-family=\"Helvetica,sans-Serif\" font-size=\"14.00\">苹果酸 &lt;= 2.82</text>\r\n<text text-anchor=\"middle\" x=\"468.5\" y=\"-156.8\" font-family=\"Helvetica,sans-Serif\" font-size=\"14.00\">entropy = 0.811</text>\r\n<text text-anchor=\"middle\" x=\"468.5\" y=\"-141.8\" font-family=\"Helvetica,sans-Serif\" font-size=\"14.00\">samples = 4</text>\r\n<text text-anchor=\"middle\" x=\"468.5\" y=\"-126.8\" font-family=\"Helvetica,sans-Serif\" font-size=\"14.00\">value = [1, 3, 0]</text>\r\n<text text-anchor=\"middle\" x=\"468.5\" y=\"-111.8\" font-family=\"Helvetica,sans-Serif\" font-size=\"14.00\">class = 雪梨</text>\r\n</g>\r\n<!-- 7&#45;&gt;9 -->\r\n<g id=\"edge9\" class=\"edge\"><title>7&#45;&gt;9</title>\r\n<path fill=\"none\" stroke=\"black\" d=\"M424.092,-222.907C429.156,-214.195 434.56,-204.897 439.793,-195.893\"/>\r\n<polygon fill=\"black\" stroke=\"black\" points=\"442.951,-197.425 444.949,-187.021 436.898,-193.908 442.951,-197.425\"/>\r\n</g>\r\n<!-- 10 -->\r\n<g id=\"node11\" class=\"node\"><title>10</title>\r\n<path fill=\"#39e581\" stroke=\"black\" d=\"M447,-68C447,-68 358,-68 358,-68 352,-68 346,-62 346,-56 346,-56 346,-12 346,-12 346,-6 352,-0 358,-0 358,-0 447,-0 447,-0 453,-0 459,-6 459,-12 459,-12 459,-56 459,-56 459,-62 453,-68 447,-68\"/>\r\n<text text-anchor=\"middle\" x=\"402.5\" y=\"-52.8\" font-family=\"Helvetica,sans-Serif\" font-size=\"14.00\">entropy = 0.0</text>\r\n<text text-anchor=\"middle\" x=\"402.5\" y=\"-37.8\" font-family=\"Helvetica,sans-Serif\" font-size=\"14.00\">samples = 3</text>\r\n<text text-anchor=\"middle\" x=\"402.5\" y=\"-22.8\" font-family=\"Helvetica,sans-Serif\" font-size=\"14.00\">value = [0, 3, 0]</text>\r\n<text text-anchor=\"middle\" x=\"402.5\" y=\"-7.8\" font-family=\"Helvetica,sans-Serif\" font-size=\"14.00\">class = 雪梨</text>\r\n</g>\r\n<!-- 9&#45;&gt;10 -->\r\n<g id=\"edge10\" class=\"edge\"><title>9&#45;&gt;10</title>\r\n<path fill=\"none\" stroke=\"black\" d=\"M443.924,-103.726C438.646,-94.9703 433.061,-85.7032 427.758,-76.9051\"/>\r\n<polygon fill=\"black\" stroke=\"black\" points=\"430.731,-75.0574 422.571,-68.2996 424.736,-78.671 430.731,-75.0574\"/>\r\n</g>\r\n<!-- 11 -->\r\n<g id=\"node12\" class=\"node\"><title>11</title>\r\n<path fill=\"#e58139\" stroke=\"black\" d=\"M578,-68C578,-68 489,-68 489,-68 483,-68 477,-62 477,-56 477,-56 477,-12 477,-12 477,-6 483,-0 489,-0 489,-0 578,-0 578,-0 584,-0 590,-6 590,-12 590,-12 590,-56 590,-56 590,-62 584,-68 578,-68\"/>\r\n<text text-anchor=\"middle\" x=\"533.5\" y=\"-52.8\" font-family=\"Helvetica,sans-Serif\" font-size=\"14.00\">entropy = 0.0</text>\r\n<text text-anchor=\"middle\" x=\"533.5\" y=\"-37.8\" font-family=\"Helvetica,sans-Serif\" font-size=\"14.00\">samples = 1</text>\r\n<text text-anchor=\"middle\" x=\"533.5\" y=\"-22.8\" font-family=\"Helvetica,sans-Serif\" font-size=\"14.00\">value = [1, 0, 0]</text>\r\n<text text-anchor=\"middle\" x=\"533.5\" y=\"-7.8\" font-family=\"Helvetica,sans-Serif\" font-size=\"14.00\">class = 琴酒</text>\r\n</g>\r\n<!-- 9&#45;&gt;11 -->\r\n<g id=\"edge11\" class=\"edge\"><title>9&#45;&gt;11</title>\r\n<path fill=\"none\" stroke=\"black\" d=\"M492.704,-103.726C497.901,-94.9703 503.402,-85.7032 508.625,-76.9051\"/>\r\n<polygon fill=\"black\" stroke=\"black\" points=\"511.638,-78.6853 513.733,-68.2996 505.619,-75.1121 511.638,-78.6853\"/>\r\n</g>\r\n<!-- 13 -->\r\n<g id=\"node14\" class=\"node\"><title>13</title>\r\n<path fill=\"#39e581\" stroke=\"black\" d=\"M646,-179.5C646,-179.5 557,-179.5 557,-179.5 551,-179.5 545,-173.5 545,-167.5 545,-167.5 545,-123.5 545,-123.5 545,-117.5 551,-111.5 557,-111.5 557,-111.5 646,-111.5 646,-111.5 652,-111.5 658,-117.5 658,-123.5 658,-123.5 658,-167.5 658,-167.5 658,-173.5 652,-179.5 646,-179.5\"/>\r\n<text text-anchor=\"middle\" x=\"601.5\" y=\"-164.3\" font-family=\"Helvetica,sans-Serif\" font-size=\"14.00\">entropy = 0.0</text>\r\n<text text-anchor=\"middle\" x=\"601.5\" y=\"-149.3\" font-family=\"Helvetica,sans-Serif\" font-size=\"14.00\">samples = 3</text>\r\n<text text-anchor=\"middle\" x=\"601.5\" y=\"-134.3\" font-family=\"Helvetica,sans-Serif\" font-size=\"14.00\">value = [0, 3, 0]</text>\r\n<text text-anchor=\"middle\" x=\"601.5\" y=\"-119.3\" font-family=\"Helvetica,sans-Serif\" font-size=\"14.00\">class = 雪梨</text>\r\n</g>\r\n<!-- 12&#45;&gt;13 -->\r\n<g id=\"edge13\" class=\"edge\"><title>12&#45;&gt;13</title>\r\n<path fill=\"none\" stroke=\"black\" d=\"M601.5,-222.907C601.5,-212.204 601.5,-200.615 601.5,-189.776\"/>\r\n<polygon fill=\"black\" stroke=\"black\" points=\"605,-189.667 601.5,-179.667 598,-189.667 605,-189.667\"/>\r\n</g>\r\n<!-- 14 -->\r\n<g id=\"node15\" class=\"node\"><title>14</title>\r\n<path fill=\"#e58139\" stroke=\"black\" d=\"M785,-179.5C785,-179.5 688,-179.5 688,-179.5 682,-179.5 676,-173.5 676,-167.5 676,-167.5 676,-123.5 676,-123.5 676,-117.5 682,-111.5 688,-111.5 688,-111.5 785,-111.5 785,-111.5 791,-111.5 797,-117.5 797,-123.5 797,-123.5 797,-167.5 797,-167.5 797,-173.5 791,-179.5 785,-179.5\"/>\r\n<text text-anchor=\"middle\" x=\"736.5\" y=\"-164.3\" font-family=\"Helvetica,sans-Serif\" font-size=\"14.00\">entropy = 0.0</text>\r\n<text text-anchor=\"middle\" x=\"736.5\" y=\"-149.3\" font-family=\"Helvetica,sans-Serif\" font-size=\"14.00\">samples = 29</text>\r\n<text text-anchor=\"middle\" x=\"736.5\" y=\"-134.3\" font-family=\"Helvetica,sans-Serif\" font-size=\"14.00\">value = [29, 0, 0]</text>\r\n<text text-anchor=\"middle\" x=\"736.5\" y=\"-119.3\" font-family=\"Helvetica,sans-Serif\" font-size=\"14.00\">class = 琴酒</text>\r\n</g>\r\n<!-- 12&#45;&gt;14 -->\r\n<g id=\"edge14\" class=\"edge\"><title>12&#45;&gt;14</title>\r\n<path fill=\"none\" stroke=\"black\" d=\"M648.338,-222.907C661.961,-211.101 676.827,-198.217 690.404,-186.45\"/>\r\n<polygon fill=\"black\" stroke=\"black\" points=\"692.966,-188.861 698.23,-179.667 688.381,-183.571 692.966,-188.861\"/>\r\n</g>\r\n</g>\r\n</svg>\r\n"
                    },
                    "metadata": {},
                    "execution_count": 26
                }
            ],
            "metadata": {}
        },
        {
            "cell_type": "code",
            "execution_count": 27,
            "source": [
                "# 特征的重要性\r\n",
                "clf.feature_importances_\r\n",
                "[*zip(feature_names,clf.feature_importances_)]"
            ],
            "outputs": [
                {
                    "output_type": "execute_result",
                    "data": {
                        "text/plain": [
                            "[('酒精', 0.018658479191242153),\n",
                            " ('苹果酸', 0.016948184280947114),\n",
                            " ('灰', 0.0),\n",
                            " ('灰的碱性', 0.035422871232545804),\n",
                            " ('镁', 0.0),\n",
                            " ('总酚', 0.0),\n",
                            " ('类黄酮', 0.4350405309326196),\n",
                            " ('非黄烷类酚类', 0.0),\n",
                            " ('花青素', 0.0),\n",
                            " ('颜色强度', 0.22811392090116003),\n",
                            " ('色调', 0.0),\n",
                            " ('od280/od315稀释葡萄酒', 0.0),\n",
                            " ('脯氨酸', 0.2658160134614852)]"
                        ]
                    },
                    "metadata": {},
                    "execution_count": 27
                }
            ],
            "metadata": {}
        },
        {
            "cell_type": "markdown",
            "source": [
                "在只了解一个参数的情况下，建立了一棵完整的决策树。但是回到建立模型的步骤，score会在某个值附近波动，引起步骤5中画出来的每一棵树都不一样。它为什么会不稳定呢？如果使用其他数据集，它还会不稳定吗？<br>\r\n",
                "无论决策树模型如何进化，在分枝上的本质都还是追求某个不纯度相关的指标的优化，不纯度是基于节点来计算的，也就是说，决策树在建树时，是靠优化节点来追求一棵优化的树，但最优的节点却不能够保证最优的树。集成算法被用来解决这个问题：<br>\r\n",
                "sklearn表示，既然一棵树不能保证最优，那就建更多的不同的树，然后从中取最好的。怎样从一组数据集中建不同的树？在每次分枝时，不从使用全部特征，而是随机选取一部分特征，从中选取不纯度相关指标最优的作为分枝用的节点。这样，每次生成的树也就不同了。"
            ],
            "metadata": {}
        },
        {
            "cell_type": "code",
            "execution_count": 28,
            "source": [
                "clf = tree.DecisionTreeClassifier(\r\n",
                "    criterion=\"entropy\"\r\n",
                "    ,random_state=30\r\n",
                ")\r\n",
                "clf = clf.fit(Xtrain, Ytrain)\r\n",
                "score = clf.score(Xtest, Ytest) #返回预测的准确度\r\n",
                "score"
            ],
            "outputs": [
                {
                    "output_type": "execute_result",
                    "data": {
                        "text/plain": [
                            "0.9629629629629629"
                        ]
                    },
                    "metadata": {},
                    "execution_count": 28
                }
            ],
            "metadata": {}
        },
        {
            "cell_type": "markdown",
            "source": [
                "random_state用来设置分枝中的随机模式的参数，默认None，在高维度时随机性会表现更明显，低维度的数据（比如鸢尾花数据集），随机性几乎不会显现。输入任意整数，会一直长出同一棵树，让模型稳定下来。<br>\r\n",
                "splitter也是用来控制决策树中的随机选项的，有两种输入值，输入”best\"，决策树在分枝时虽然随机，但是还是会优先选择更重要的特征进行分枝（重要性可以通过属性feature_importances_查看），输入“random\"，决策树在分枝时会更加随机，树会因为含有更多的不必要信息而更深更大，并因这些不必要信息而降低对训练集的拟合。这也是防止过拟合的一种方式。当你预测到你的模型会过拟合，用这两个参数来帮助你降低树建成之后过拟合的可能性。当然，树一旦建成，我们依然是使用剪枝参数来防止过拟合。"
            ],
            "metadata": {}
        },
        {
            "cell_type": "code",
            "execution_count": null,
            "source": [
                "clf = tree.DecisionTreeClassifier(\r\n",
                "    criterion=\"entropy\"\r\n",
                "    ,random_state=30\r\n",
                "    ,splitter=\"random\"\r\n",
                ")\r\n",
                "clf = clf.fit(Xtrain, Ytrain)\r\n",
                "score = clf.score(Xtest, Ytest)\r\n",
                "print(\"score:\\n\",score)\r\n",
                "import graphviz\r\n",
                "dot_data = tree.export_graphviz(\r\n",
                "    clf\r\n",
                "    ,feature_names= feature_names\r\n",
                "    ,class_names=[\"琴酒\",\"雪莉\",\"贝尔摩德\"]\r\n",
                "    ,filled=True\r\n",
                "    ,rounded=True\r\n",
                ")  \r\n",
                "graph = graphviz.Source(dot_data)\r\n",
                "graph"
            ],
            "outputs": [],
            "metadata": {}
        },
        {
            "cell_type": "markdown",
            "source": [
                "在不加限制的情况下，一棵决策树会生长到衡量不纯度的指标最优，或者没有更多的特征可用为止。这样的决策树往往会过拟合，这就是说，它会在训练集上表现很好，在测试集上却表现糟糕。我们收集的样本数据不可能和整体的状况完全一致，因此当一棵决策树对训练数据有了过于优秀的解释性，它找出的规则必然包含了训练样本中的噪声，并使它对未知数据的拟合程度不足。"
            ],
            "metadata": {}
        }
    ],
    "metadata": {
        "orig_nbformat": 4,
        "language_info": {
            "name": "python",
            "version": "3.8.10",
            "mimetype": "text/x-python",
            "codemirror_mode": {
                "name": "ipython",
                "version": 3
            },
            "pygments_lexer": "ipython3",
            "nbconvert_exporter": "python",
            "file_extension": ".py"
        },
        "kernelspec": {
            "name": "python3",
            "display_name": "Python 3.8.10 64-bit (conda)"
        },
        "interpreter": {
            "hash": "e90953f8837d6e6ee169187a07441ec8e9f5b5b0a98b2e1c8fa77f86871ddba0"
        }
    },
    "nbformat": 4,
    "nbformat_minor": 2
}