{
    "cells": [
        {
            "cell_type": "markdown",
            "source": [
                "决策树（Decision Tree）是一种非参数的有监督学习方法，它能够从一系列有特征和标签的数据中总结出决策规则，并用树状图的结构来呈现这些规则，以解决分类和回归问题。决策树算法容易理解，适用各种数据，在解决各种问题时都有良好表现，尤其是以树模型为核心的各种集成算法，在各个行业和领域都有广泛的应用。"
            ],
            "metadata": {}
        },
        {
            "cell_type": "markdown",
            "source": [
                "决策树算法的核心是要解决两个问题：<br/>\r\n",
                "1.如何从数据表中找出最佳节点和最佳分枝？<br/>\r\n",
                "2.如何让决策树停止生长，防止过拟合？<br/>\r\n",
                "几乎所有决策树有关的模型调整方法，都围绕这两个问题展开。<br/>\r\n",
                "[决策树原理](https://www.cnblogs.com/bind/p/12102750.html)<br/>"
            ],
            "metadata": {}
        },
        {
            "cell_type": "markdown",
            "source": [
                "模块sklearn.tree\r\n",
                "sklearn中决策树的类都在”tree“这个模块之下。这个模块总共包含五个类：\r\n",
                "| 调用                        | 树                                    |\r\n",
                "| --------------------------- | ------------------------------------- |\r\n",
                "| tree.DecisionTreeClassifier | 分类树                                |\r\n",
                "| tree.DecisionTreeRegressor  | 回归树                                |\r\n",
                "| tree.export_graphviz        | 将生成的决策树导出为DOT格式，画图专用 |\r\n",
                "| tree.ExtraTreeClassifier    | 高随机版本的分类树                    |\r\n",
                "| tree.ExtraTreeRegressor     | 高随机版本的回归树                    |"
            ],
            "metadata": {}
        },
        {
            "cell_type": "markdown",
            "source": [
                "sklearn的基本建模流程<br>\r\n",
                "![image-20210807200050239](https://cdn.jsdelivr.net/gh/zEpoch/imageHome/img/image-20210807200050239.png)\r\n",
                "<br>\r\n",
                "在这个流程下，分类树对应的代码是：\r\n",
                "<br>\r\n",
                "\r\n",
                "\r\n",
                "```python\r\n",
                "from sklearn import tree #导入需要的模块\r\n",
                "clf = tree.DecisionTreeClassifier()     #实例化\r\n",
                "clf = clf.fit(X_train,y_train) #用训练集数据训练模型\r\n",
                "result = clf.score(X_test,y_test) #导入测试集，从接口中调用需要的信息\r\n",
                "```\r\n",
                "\r\n"
            ],
            "metadata": {}
        },
        {
            "cell_type": "code",
            "execution_count": 1,
            "source": [
                "# 步骤1 导入需要的算法库和模块\r\n",
                "from sklearn import tree\r\n",
                "from sklearn.datasets import load_wine\r\n",
                "from sklearn.model_selection import train_test_split"
            ],
            "outputs": [],
            "metadata": {}
        },
        {
            "cell_type": "code",
            "execution_count": 2,
            "source": [
                "# 步骤2 导入数据\r\n",
                "wine = load_wine()\r\n",
                "print(\"wine.data.shape:\\n\",wine.data.shape)\r\n",
                "#如果wine是一张表，应该长这样：\r\n",
                "import pandas as pd\r\n",
                "pd.concat([pd.DataFrame(wine.data),pd.DataFrame(wine.target)],axis=1)\r\n",
                "print(\"wine.feature_names:\\n\",wine.feature_names)\r\n",
                "print(\"wine.feature_names:\\n\",wine.target_names)"
            ],
            "outputs": [
                {
                    "output_type": "stream",
                    "name": "stdout",
                    "text": [
                        "wine.data.shape:\n",
                        " (178, 13)\n",
                        "wine.feature_names:\n",
                        " ['alcohol', 'malic_acid', 'ash', 'alcalinity_of_ash', 'magnesium', 'total_phenols', 'flavanoids', 'nonflavanoid_phenols', 'proanthocyanins', 'color_intensity', 'hue', 'od280/od315_of_diluted_wines', 'proline']\n",
                        "wine.feature_names:\n",
                        " ['class_0' 'class_1' 'class_2']\n"
                    ]
                }
            ],
            "metadata": {}
        },
        {
            "cell_type": "code",
            "execution_count": 3,
            "source": [
                "# 步骤3 分训练集和测试集\r\n",
                "Xtrain, Xtest, Ytrain, Ytest = train_test_split(wine.data, wine.target,test_size=0.3)\r\n",
                "print(Xtrain.shape,Xtest.shape)"
            ],
            "outputs": [
                {
                    "output_type": "stream",
                    "name": "stdout",
                    "text": [
                        "(124, 13) (54, 13)\n"
                    ]
                }
            ],
            "metadata": {}
        },
        {
            "cell_type": "code",
            "execution_count": 4,
            "source": [
                "# 步骤4 建立模型\r\n",
                "clf = tree.DecisionTreeClassifier(\r\n",
                "    criterion=\"entropy\"\r\n",
                ")\r\n",
                "clf = clf.fit(Xtrain,Ytrain)\r\n",
                "score = clf.score(Xtest, Ytest)\r\n",
                "print(score)"
            ],
            "outputs": [
                {
                    "output_type": "stream",
                    "name": "stdout",
                    "text": [
                        "0.9444444444444444\n"
                    ]
                }
            ],
            "metadata": {}
        },
        {
            "cell_type": "code",
            "execution_count": 5,
            "source": [
                "# 步骤5 画出一棵树\r\n",
                "feature_names = ['酒精','苹果酸','灰','灰的碱性','镁','总酚','类黄酮','非黄烷类酚类','花青素','颜色强度','色调','od280/od315稀释葡萄酒','脯氨酸']\r\n",
                "import graphviz\r\n",
                "dot_data = tree.export_graphviz(\r\n",
                "    clf\r\n",
                "    ,feature_names=feature_names\r\n",
                "    ,class_names=[\"琴酒\",\"雪梨\",\"贝尔摩特\"] # 分为三类，三类的名字\r\n",
                "    ,filled=True\r\n",
                "    ,rounded=True # 圆角\r\n",
                ")\r\n",
                "graph = graphviz.Source(dot_data)\r\n",
                "graph"
            ],
            "outputs": [
                {
                    "output_type": "execute_result",
                    "data": {
                        "text/plain": [
                            "<graphviz.files.Source at 0x16194ae7e80>"
                        ],
                        "image/svg+xml": "<?xml version=\"1.0\" encoding=\"UTF-8\" standalone=\"no\"?>\r\n<!DOCTYPE svg PUBLIC \"-//W3C//DTD SVG 1.1//EN\"\r\n \"http://www.w3.org/Graphics/SVG/1.1/DTD/svg11.dtd\">\r\n<!-- Generated by graphviz version 2.38.0 (20140413.2041)\r\n -->\r\n<!-- Title: Tree Pages: 1 -->\r\n<svg width=\"810pt\" height=\"552pt\"\r\n viewBox=\"0.00 0.00 810.00 552.00\" xmlns=\"http://www.w3.org/2000/svg\" xmlns:xlink=\"http://www.w3.org/1999/xlink\">\r\n<g id=\"graph0\" class=\"graph\" transform=\"scale(1 1) rotate(0) translate(4 548)\">\r\n<title>Tree</title>\r\n<polygon fill=\"white\" stroke=\"none\" points=\"-4,4 -4,-548 806,-548 806,4 -4,4\"/>\r\n<!-- 0 -->\r\n<g id=\"node1\" class=\"node\"><title>0</title>\r\n<path fill=\"#f5fef9\" stroke=\"black\" d=\"M445,-544C445,-544 332,-544 332,-544 326,-544 320,-538 320,-532 320,-532 320,-473 320,-473 320,-467 326,-461 332,-461 332,-461 445,-461 445,-461 451,-461 457,-467 457,-473 457,-473 457,-532 457,-532 457,-538 451,-544 445,-544\"/>\r\n<text text-anchor=\"middle\" x=\"388.5\" y=\"-528.8\" font-family=\"Helvetica,sans-Serif\" font-size=\"14.00\">脯氨酸 &lt;= 730.0</text>\r\n<text text-anchor=\"middle\" x=\"388.5\" y=\"-513.8\" font-family=\"Helvetica,sans-Serif\" font-size=\"14.00\">entropy = 1.565</text>\r\n<text text-anchor=\"middle\" x=\"388.5\" y=\"-498.8\" font-family=\"Helvetica,sans-Serif\" font-size=\"14.00\">samples = 124</text>\r\n<text text-anchor=\"middle\" x=\"388.5\" y=\"-483.8\" font-family=\"Helvetica,sans-Serif\" font-size=\"14.00\">value = [44, 48, 32]</text>\r\n<text text-anchor=\"middle\" x=\"388.5\" y=\"-468.8\" font-family=\"Helvetica,sans-Serif\" font-size=\"14.00\">class = 雪梨</text>\r\n</g>\r\n<!-- 1 -->\r\n<g id=\"node2\" class=\"node\"><title>1</title>\r\n<path fill=\"#b7f6d1\" stroke=\"black\" d=\"M392.5,-425C392.5,-425 196.5,-425 196.5,-425 190.5,-425 184.5,-419 184.5,-413 184.5,-413 184.5,-354 184.5,-354 184.5,-348 190.5,-342 196.5,-342 196.5,-342 392.5,-342 392.5,-342 398.5,-342 404.5,-348 404.5,-354 404.5,-354 404.5,-413 404.5,-413 404.5,-419 398.5,-425 392.5,-425\"/>\r\n<text text-anchor=\"middle\" x=\"294.5\" y=\"-409.8\" font-family=\"Helvetica,sans-Serif\" font-size=\"14.00\">od280/od315稀释葡萄酒 &lt;= 2.205</text>\r\n<text text-anchor=\"middle\" x=\"294.5\" y=\"-394.8\" font-family=\"Helvetica,sans-Serif\" font-size=\"14.00\">entropy = 0.964</text>\r\n<text text-anchor=\"middle\" x=\"294.5\" y=\"-379.8\" font-family=\"Helvetica,sans-Serif\" font-size=\"14.00\">samples = 72</text>\r\n<text text-anchor=\"middle\" x=\"294.5\" y=\"-364.8\" font-family=\"Helvetica,sans-Serif\" font-size=\"14.00\">value = [0, 44, 28]</text>\r\n<text text-anchor=\"middle\" x=\"294.5\" y=\"-349.8\" font-family=\"Helvetica,sans-Serif\" font-size=\"14.00\">class = 雪梨</text>\r\n</g>\r\n<!-- 0&#45;&gt;1 -->\r\n<g id=\"edge1\" class=\"edge\"><title>0&#45;&gt;1</title>\r\n<path fill=\"none\" stroke=\"black\" d=\"M355.887,-460.907C348.669,-451.923 340.95,-442.315 333.506,-433.05\"/>\r\n<polygon fill=\"black\" stroke=\"black\" points=\"336.047,-430.624 327.055,-425.021 330.59,-435.009 336.047,-430.624\"/>\r\n<text text-anchor=\"middle\" x=\"324.346\" y=\"-446.174\" font-family=\"Helvetica,sans-Serif\" font-size=\"14.00\">True</text>\r\n</g>\r\n<!-- 8 -->\r\n<g id=\"node9\" class=\"node\"><title>8</title>\r\n<path fill=\"#e9965a\" stroke=\"black\" d=\"M532,-425C532,-425 435,-425 435,-425 429,-425 423,-419 423,-413 423,-413 423,-354 423,-354 423,-348 429,-342 435,-342 435,-342 532,-342 532,-342 538,-342 544,-348 544,-354 544,-354 544,-413 544,-413 544,-419 538,-425 532,-425\"/>\r\n<text text-anchor=\"middle\" x=\"483.5\" y=\"-409.8\" font-family=\"Helvetica,sans-Serif\" font-size=\"14.00\">类黄酮 &lt;= 2.02</text>\r\n<text text-anchor=\"middle\" x=\"483.5\" y=\"-394.8\" font-family=\"Helvetica,sans-Serif\" font-size=\"14.00\">entropy = 0.773</text>\r\n<text text-anchor=\"middle\" x=\"483.5\" y=\"-379.8\" font-family=\"Helvetica,sans-Serif\" font-size=\"14.00\">samples = 52</text>\r\n<text text-anchor=\"middle\" x=\"483.5\" y=\"-364.8\" font-family=\"Helvetica,sans-Serif\" font-size=\"14.00\">value = [44, 4, 4]</text>\r\n<text text-anchor=\"middle\" x=\"483.5\" y=\"-349.8\" font-family=\"Helvetica,sans-Serif\" font-size=\"14.00\">class = 琴酒</text>\r\n</g>\r\n<!-- 0&#45;&gt;8 -->\r\n<g id=\"edge8\" class=\"edge\"><title>0&#45;&gt;8</title>\r\n<path fill=\"none\" stroke=\"black\" d=\"M421.46,-460.907C428.755,-451.923 436.556,-442.315 444.079,-433.05\"/>\r\n<polygon fill=\"black\" stroke=\"black\" points=\"447.012,-434.99 450.598,-425.021 441.578,-430.578 447.012,-434.99\"/>\r\n<text text-anchor=\"middle\" x=\"453.179\" y=\"-446.187\" font-family=\"Helvetica,sans-Serif\" font-size=\"14.00\">False</text>\r\n</g>\r\n<!-- 2 -->\r\n<g id=\"node3\" class=\"node\"><title>2</title>\r\n<path fill=\"#985cea\" stroke=\"black\" d=\"M229.5,-306C229.5,-306 131.5,-306 131.5,-306 125.5,-306 119.5,-300 119.5,-294 119.5,-294 119.5,-235 119.5,-235 119.5,-229 125.5,-223 131.5,-223 131.5,-223 229.5,-223 229.5,-223 235.5,-223 241.5,-229 241.5,-235 241.5,-235 241.5,-294 241.5,-294 241.5,-300 235.5,-306 229.5,-306\"/>\r\n<text text-anchor=\"middle\" x=\"180.5\" y=\"-290.8\" font-family=\"Helvetica,sans-Serif\" font-size=\"14.00\">灰的碱性 &lt;= 17.15</text>\r\n<text text-anchor=\"middle\" x=\"180.5\" y=\"-275.8\" font-family=\"Helvetica,sans-Serif\" font-size=\"14.00\">entropy = 0.614</text>\r\n<text text-anchor=\"middle\" x=\"180.5\" y=\"-260.8\" font-family=\"Helvetica,sans-Serif\" font-size=\"14.00\">samples = 33</text>\r\n<text text-anchor=\"middle\" x=\"180.5\" y=\"-245.8\" font-family=\"Helvetica,sans-Serif\" font-size=\"14.00\">value = [0, 5, 28]</text>\r\n<text text-anchor=\"middle\" x=\"180.5\" y=\"-230.8\" font-family=\"Helvetica,sans-Serif\" font-size=\"14.00\">class = 贝尔摩特</text>\r\n</g>\r\n<!-- 1&#45;&gt;2 -->\r\n<g id=\"edge2\" class=\"edge\"><title>1&#45;&gt;2</title>\r\n<path fill=\"none\" stroke=\"black\" d=\"M254.948,-341.907C245.929,-332.651 236.265,-322.732 226.986,-313.209\"/>\r\n<polygon fill=\"black\" stroke=\"black\" points=\"229.467,-310.741 219.982,-306.021 224.454,-315.626 229.467,-310.741\"/>\r\n</g>\r\n<!-- 7 -->\r\n<g id=\"node8\" class=\"node\"><title>7</title>\r\n<path fill=\"#39e581\" stroke=\"black\" d=\"M369,-298.5C369,-298.5 272,-298.5 272,-298.5 266,-298.5 260,-292.5 260,-286.5 260,-286.5 260,-242.5 260,-242.5 260,-236.5 266,-230.5 272,-230.5 272,-230.5 369,-230.5 369,-230.5 375,-230.5 381,-236.5 381,-242.5 381,-242.5 381,-286.5 381,-286.5 381,-292.5 375,-298.5 369,-298.5\"/>\r\n<text text-anchor=\"middle\" x=\"320.5\" y=\"-283.3\" font-family=\"Helvetica,sans-Serif\" font-size=\"14.00\">entropy = 0.0</text>\r\n<text text-anchor=\"middle\" x=\"320.5\" y=\"-268.3\" font-family=\"Helvetica,sans-Serif\" font-size=\"14.00\">samples = 39</text>\r\n<text text-anchor=\"middle\" x=\"320.5\" y=\"-253.3\" font-family=\"Helvetica,sans-Serif\" font-size=\"14.00\">value = [0, 39, 0]</text>\r\n<text text-anchor=\"middle\" x=\"320.5\" y=\"-238.3\" font-family=\"Helvetica,sans-Serif\" font-size=\"14.00\">class = 雪梨</text>\r\n</g>\r\n<!-- 1&#45;&gt;7 -->\r\n<g id=\"edge7\" class=\"edge\"><title>1&#45;&gt;7</title>\r\n<path fill=\"none\" stroke=\"black\" d=\"M303.521,-341.907C305.924,-331.094 308.527,-319.376 310.958,-308.441\"/>\r\n<polygon fill=\"black\" stroke=\"black\" points=\"314.377,-309.188 313.13,-298.667 307.544,-307.67 314.377,-309.188\"/>\r\n</g>\r\n<!-- 3 -->\r\n<g id=\"node4\" class=\"node\"><title>3</title>\r\n<path fill=\"#39e581\" stroke=\"black\" d=\"M101,-179.5C101,-179.5 12,-179.5 12,-179.5 6,-179.5 0,-173.5 0,-167.5 0,-167.5 0,-123.5 0,-123.5 0,-117.5 6,-111.5 12,-111.5 12,-111.5 101,-111.5 101,-111.5 107,-111.5 113,-117.5 113,-123.5 113,-123.5 113,-167.5 113,-167.5 113,-173.5 107,-179.5 101,-179.5\"/>\r\n<text text-anchor=\"middle\" x=\"56.5\" y=\"-164.3\" font-family=\"Helvetica,sans-Serif\" font-size=\"14.00\">entropy = 0.0</text>\r\n<text text-anchor=\"middle\" x=\"56.5\" y=\"-149.3\" font-family=\"Helvetica,sans-Serif\" font-size=\"14.00\">samples = 4</text>\r\n<text text-anchor=\"middle\" x=\"56.5\" y=\"-134.3\" font-family=\"Helvetica,sans-Serif\" font-size=\"14.00\">value = [0, 4, 0]</text>\r\n<text text-anchor=\"middle\" x=\"56.5\" y=\"-119.3\" font-family=\"Helvetica,sans-Serif\" font-size=\"14.00\">class = 雪梨</text>\r\n</g>\r\n<!-- 2&#45;&gt;3 -->\r\n<g id=\"edge3\" class=\"edge\"><title>2&#45;&gt;3</title>\r\n<path fill=\"none\" stroke=\"black\" d=\"M137.479,-222.907C125.082,-211.211 111.566,-198.457 99.1896,-186.78\"/>\r\n<polygon fill=\"black\" stroke=\"black\" points=\"101.327,-183.984 91.6513,-179.667 96.5227,-189.075 101.327,-183.984\"/>\r\n</g>\r\n<!-- 4 -->\r\n<g id=\"node5\" class=\"node\"><title>4</title>\r\n<path fill=\"#8640e6\" stroke=\"black\" d=\"M240,-187C240,-187 143,-187 143,-187 137,-187 131,-181 131,-175 131,-175 131,-116 131,-116 131,-110 137,-104 143,-104 143,-104 240,-104 240,-104 246,-104 252,-110 252,-116 252,-116 252,-175 252,-175 252,-181 246,-187 240,-187\"/>\r\n<text text-anchor=\"middle\" x=\"191.5\" y=\"-171.8\" font-family=\"Helvetica,sans-Serif\" font-size=\"14.00\">类黄酮 &lt;= 1.58</text>\r\n<text text-anchor=\"middle\" x=\"191.5\" y=\"-156.8\" font-family=\"Helvetica,sans-Serif\" font-size=\"14.00\">entropy = 0.216</text>\r\n<text text-anchor=\"middle\" x=\"191.5\" y=\"-141.8\" font-family=\"Helvetica,sans-Serif\" font-size=\"14.00\">samples = 29</text>\r\n<text text-anchor=\"middle\" x=\"191.5\" y=\"-126.8\" font-family=\"Helvetica,sans-Serif\" font-size=\"14.00\">value = [0, 1, 28]</text>\r\n<text text-anchor=\"middle\" x=\"191.5\" y=\"-111.8\" font-family=\"Helvetica,sans-Serif\" font-size=\"14.00\">class = 贝尔摩特</text>\r\n</g>\r\n<!-- 2&#45;&gt;4 -->\r\n<g id=\"edge4\" class=\"edge\"><title>2&#45;&gt;4</title>\r\n<path fill=\"none\" stroke=\"black\" d=\"M184.316,-222.907C185.101,-214.558 185.937,-205.671 186.75,-197.02\"/>\r\n<polygon fill=\"black\" stroke=\"black\" points=\"190.239,-197.305 187.69,-187.021 183.27,-196.649 190.239,-197.305\"/>\r\n</g>\r\n<!-- 5 -->\r\n<g id=\"node6\" class=\"node\"><title>5</title>\r\n<path fill=\"#8139e5\" stroke=\"black\" d=\"M172,-68C172,-68 75,-68 75,-68 69,-68 63,-62 63,-56 63,-56 63,-12 63,-12 63,-6 69,-0 75,-0 75,-0 172,-0 172,-0 178,-0 184,-6 184,-12 184,-12 184,-56 184,-56 184,-62 178,-68 172,-68\"/>\r\n<text text-anchor=\"middle\" x=\"123.5\" y=\"-52.8\" font-family=\"Helvetica,sans-Serif\" font-size=\"14.00\">entropy = 0.0</text>\r\n<text text-anchor=\"middle\" x=\"123.5\" y=\"-37.8\" font-family=\"Helvetica,sans-Serif\" font-size=\"14.00\">samples = 28</text>\r\n<text text-anchor=\"middle\" x=\"123.5\" y=\"-22.8\" font-family=\"Helvetica,sans-Serif\" font-size=\"14.00\">value = [0, 0, 28]</text>\r\n<text text-anchor=\"middle\" x=\"123.5\" y=\"-7.8\" font-family=\"Helvetica,sans-Serif\" font-size=\"14.00\">class = 贝尔摩特</text>\r\n</g>\r\n<!-- 4&#45;&gt;5 -->\r\n<g id=\"edge5\" class=\"edge\"><title>4&#45;&gt;5</title>\r\n<path fill=\"none\" stroke=\"black\" d=\"M166.179,-103.726C160.742,-94.9703 154.987,-85.7032 149.523,-76.9051\"/>\r\n<polygon fill=\"black\" stroke=\"black\" points=\"152.428,-74.9484 144.179,-68.2996 146.481,-78.6413 152.428,-74.9484\"/>\r\n</g>\r\n<!-- 6 -->\r\n<g id=\"node7\" class=\"node\"><title>6</title>\r\n<path fill=\"#39e581\" stroke=\"black\" d=\"M303,-68C303,-68 214,-68 214,-68 208,-68 202,-62 202,-56 202,-56 202,-12 202,-12 202,-6 208,-0 214,-0 214,-0 303,-0 303,-0 309,-0 315,-6 315,-12 315,-12 315,-56 315,-56 315,-62 309,-68 303,-68\"/>\r\n<text text-anchor=\"middle\" x=\"258.5\" y=\"-52.8\" font-family=\"Helvetica,sans-Serif\" font-size=\"14.00\">entropy = 0.0</text>\r\n<text text-anchor=\"middle\" x=\"258.5\" y=\"-37.8\" font-family=\"Helvetica,sans-Serif\" font-size=\"14.00\">samples = 1</text>\r\n<text text-anchor=\"middle\" x=\"258.5\" y=\"-22.8\" font-family=\"Helvetica,sans-Serif\" font-size=\"14.00\">value = [0, 1, 0]</text>\r\n<text text-anchor=\"middle\" x=\"258.5\" y=\"-7.8\" font-family=\"Helvetica,sans-Serif\" font-size=\"14.00\">class = 雪梨</text>\r\n</g>\r\n<!-- 4&#45;&gt;6 -->\r\n<g id=\"edge6\" class=\"edge\"><title>4&#45;&gt;6</title>\r\n<path fill=\"none\" stroke=\"black\" d=\"M216.448,-103.726C221.806,-94.9703 227.476,-85.7032 232.859,-76.9051\"/>\r\n<polygon fill=\"black\" stroke=\"black\" points=\"235.891,-78.6563 238.125,-68.2996 229.92,-75.0028 235.891,-78.6563\"/>\r\n</g>\r\n<!-- 9 -->\r\n<g id=\"node10\" class=\"node\"><title>9</title>\r\n<path fill=\"#e0cef8\" stroke=\"black\" d=\"M516.5,-306C516.5,-306 424.5,-306 424.5,-306 418.5,-306 412.5,-300 412.5,-294 412.5,-294 412.5,-235 412.5,-235 412.5,-229 418.5,-223 424.5,-223 424.5,-223 516.5,-223 516.5,-223 522.5,-223 528.5,-229 528.5,-235 528.5,-235 528.5,-294 528.5,-294 528.5,-300 522.5,-306 516.5,-306\"/>\r\n<text text-anchor=\"middle\" x=\"470.5\" y=\"-290.8\" font-family=\"Helvetica,sans-Serif\" font-size=\"14.00\">类黄酮 &lt;= 0.9</text>\r\n<text text-anchor=\"middle\" x=\"470.5\" y=\"-275.8\" font-family=\"Helvetica,sans-Serif\" font-size=\"14.00\">entropy = 0.985</text>\r\n<text text-anchor=\"middle\" x=\"470.5\" y=\"-260.8\" font-family=\"Helvetica,sans-Serif\" font-size=\"14.00\">samples = 7</text>\r\n<text text-anchor=\"middle\" x=\"470.5\" y=\"-245.8\" font-family=\"Helvetica,sans-Serif\" font-size=\"14.00\">value = [0, 3, 4]</text>\r\n<text text-anchor=\"middle\" x=\"470.5\" y=\"-230.8\" font-family=\"Helvetica,sans-Serif\" font-size=\"14.00\">class = 贝尔摩特</text>\r\n</g>\r\n<!-- 8&#45;&gt;9 -->\r\n<g id=\"edge9\" class=\"edge\"><title>8&#45;&gt;9</title>\r\n<path fill=\"none\" stroke=\"black\" d=\"M478.99,-341.907C478.062,-333.558 477.075,-324.671 476.113,-316.02\"/>\r\n<polygon fill=\"black\" stroke=\"black\" points=\"479.585,-315.573 475.002,-306.021 472.628,-316.346 479.585,-315.573\"/>\r\n</g>\r\n<!-- 12 -->\r\n<g id=\"node13\" class=\"node\"><title>12</title>\r\n<path fill=\"#e6843d\" stroke=\"black\" d=\"M656.5,-306C656.5,-306 558.5,-306 558.5,-306 552.5,-306 546.5,-300 546.5,-294 546.5,-294 546.5,-235 546.5,-235 546.5,-229 552.5,-223 558.5,-223 558.5,-223 656.5,-223 656.5,-223 662.5,-223 668.5,-229 668.5,-235 668.5,-235 668.5,-294 668.5,-294 668.5,-300 662.5,-306 656.5,-306\"/>\r\n<text text-anchor=\"middle\" x=\"607.5\" y=\"-290.8\" font-family=\"Helvetica,sans-Serif\" font-size=\"14.00\">颜色强度 &lt;= 3.435</text>\r\n<text text-anchor=\"middle\" x=\"607.5\" y=\"-275.8\" font-family=\"Helvetica,sans-Serif\" font-size=\"14.00\">entropy = 0.154</text>\r\n<text text-anchor=\"middle\" x=\"607.5\" y=\"-260.8\" font-family=\"Helvetica,sans-Serif\" font-size=\"14.00\">samples = 45</text>\r\n<text text-anchor=\"middle\" x=\"607.5\" y=\"-245.8\" font-family=\"Helvetica,sans-Serif\" font-size=\"14.00\">value = [44, 1, 0]</text>\r\n<text text-anchor=\"middle\" x=\"607.5\" y=\"-230.8\" font-family=\"Helvetica,sans-Serif\" font-size=\"14.00\">class = 琴酒</text>\r\n</g>\r\n<!-- 8&#45;&gt;12 -->\r\n<g id=\"edge12\" class=\"edge\"><title>8&#45;&gt;12</title>\r\n<path fill=\"none\" stroke=\"black\" d=\"M526.521,-341.907C536.428,-332.56 547.05,-322.538 557.234,-312.929\"/>\r\n<polygon fill=\"black\" stroke=\"black\" points=\"559.683,-315.429 564.555,-306.021 554.879,-310.338 559.683,-315.429\"/>\r\n</g>\r\n<!-- 10 -->\r\n<g id=\"node11\" class=\"node\"><title>10</title>\r\n<path fill=\"#8139e5\" stroke=\"black\" d=\"M386,-179.5C386,-179.5 297,-179.5 297,-179.5 291,-179.5 285,-173.5 285,-167.5 285,-167.5 285,-123.5 285,-123.5 285,-117.5 291,-111.5 297,-111.5 297,-111.5 386,-111.5 386,-111.5 392,-111.5 398,-117.5 398,-123.5 398,-123.5 398,-167.5 398,-167.5 398,-173.5 392,-179.5 386,-179.5\"/>\r\n<text text-anchor=\"middle\" x=\"341.5\" y=\"-164.3\" font-family=\"Helvetica,sans-Serif\" font-size=\"14.00\">entropy = 0.0</text>\r\n<text text-anchor=\"middle\" x=\"341.5\" y=\"-149.3\" font-family=\"Helvetica,sans-Serif\" font-size=\"14.00\">samples = 4</text>\r\n<text text-anchor=\"middle\" x=\"341.5\" y=\"-134.3\" font-family=\"Helvetica,sans-Serif\" font-size=\"14.00\">value = [0, 0, 4]</text>\r\n<text text-anchor=\"middle\" x=\"341.5\" y=\"-119.3\" font-family=\"Helvetica,sans-Serif\" font-size=\"14.00\">class = 贝尔摩特</text>\r\n</g>\r\n<!-- 9&#45;&gt;10 -->\r\n<g id=\"edge10\" class=\"edge\"><title>9&#45;&gt;10</title>\r\n<path fill=\"none\" stroke=\"black\" d=\"M425.744,-222.907C412.726,-211.101 398.521,-198.217 385.547,-186.45\"/>\r\n<polygon fill=\"black\" stroke=\"black\" points=\"387.827,-183.793 378.069,-179.667 383.125,-188.978 387.827,-183.793\"/>\r\n</g>\r\n<!-- 11 -->\r\n<g id=\"node12\" class=\"node\"><title>11</title>\r\n<path fill=\"#39e581\" stroke=\"black\" d=\"M517,-179.5C517,-179.5 428,-179.5 428,-179.5 422,-179.5 416,-173.5 416,-167.5 416,-167.5 416,-123.5 416,-123.5 416,-117.5 422,-111.5 428,-111.5 428,-111.5 517,-111.5 517,-111.5 523,-111.5 529,-117.5 529,-123.5 529,-123.5 529,-167.5 529,-167.5 529,-173.5 523,-179.5 517,-179.5\"/>\r\n<text text-anchor=\"middle\" x=\"472.5\" y=\"-164.3\" font-family=\"Helvetica,sans-Serif\" font-size=\"14.00\">entropy = 0.0</text>\r\n<text text-anchor=\"middle\" x=\"472.5\" y=\"-149.3\" font-family=\"Helvetica,sans-Serif\" font-size=\"14.00\">samples = 3</text>\r\n<text text-anchor=\"middle\" x=\"472.5\" y=\"-134.3\" font-family=\"Helvetica,sans-Serif\" font-size=\"14.00\">value = [0, 3, 0]</text>\r\n<text text-anchor=\"middle\" x=\"472.5\" y=\"-119.3\" font-family=\"Helvetica,sans-Serif\" font-size=\"14.00\">class = 雪梨</text>\r\n</g>\r\n<!-- 9&#45;&gt;11 -->\r\n<g id=\"edge11\" class=\"edge\"><title>9&#45;&gt;11</title>\r\n<path fill=\"none\" stroke=\"black\" d=\"M471.194,-222.907C471.377,-212.204 471.575,-200.615 471.76,-189.776\"/>\r\n<polygon fill=\"black\" stroke=\"black\" points=\"475.262,-189.725 471.933,-179.667 468.263,-189.606 475.262,-189.725\"/>\r\n</g>\r\n<!-- 13 -->\r\n<g id=\"node14\" class=\"node\"><title>13</title>\r\n<path fill=\"#39e581\" stroke=\"black\" d=\"M651,-179.5C651,-179.5 562,-179.5 562,-179.5 556,-179.5 550,-173.5 550,-167.5 550,-167.5 550,-123.5 550,-123.5 550,-117.5 556,-111.5 562,-111.5 562,-111.5 651,-111.5 651,-111.5 657,-111.5 663,-117.5 663,-123.5 663,-123.5 663,-167.5 663,-167.5 663,-173.5 657,-179.5 651,-179.5\"/>\r\n<text text-anchor=\"middle\" x=\"606.5\" y=\"-164.3\" font-family=\"Helvetica,sans-Serif\" font-size=\"14.00\">entropy = 0.0</text>\r\n<text text-anchor=\"middle\" x=\"606.5\" y=\"-149.3\" font-family=\"Helvetica,sans-Serif\" font-size=\"14.00\">samples = 1</text>\r\n<text text-anchor=\"middle\" x=\"606.5\" y=\"-134.3\" font-family=\"Helvetica,sans-Serif\" font-size=\"14.00\">value = [0, 1, 0]</text>\r\n<text text-anchor=\"middle\" x=\"606.5\" y=\"-119.3\" font-family=\"Helvetica,sans-Serif\" font-size=\"14.00\">class = 雪梨</text>\r\n</g>\r\n<!-- 12&#45;&gt;13 -->\r\n<g id=\"edge13\" class=\"edge\"><title>12&#45;&gt;13</title>\r\n<path fill=\"none\" stroke=\"black\" d=\"M607.153,-222.907C607.062,-212.204 606.963,-200.615 606.87,-189.776\"/>\r\n<polygon fill=\"black\" stroke=\"black\" points=\"610.369,-189.637 606.783,-179.667 603.369,-189.697 610.369,-189.637\"/>\r\n</g>\r\n<!-- 14 -->\r\n<g id=\"node15\" class=\"node\"><title>14</title>\r\n<path fill=\"#e58139\" stroke=\"black\" d=\"M790,-179.5C790,-179.5 693,-179.5 693,-179.5 687,-179.5 681,-173.5 681,-167.5 681,-167.5 681,-123.5 681,-123.5 681,-117.5 687,-111.5 693,-111.5 693,-111.5 790,-111.5 790,-111.5 796,-111.5 802,-117.5 802,-123.5 802,-123.5 802,-167.5 802,-167.5 802,-173.5 796,-179.5 790,-179.5\"/>\r\n<text text-anchor=\"middle\" x=\"741.5\" y=\"-164.3\" font-family=\"Helvetica,sans-Serif\" font-size=\"14.00\">entropy = 0.0</text>\r\n<text text-anchor=\"middle\" x=\"741.5\" y=\"-149.3\" font-family=\"Helvetica,sans-Serif\" font-size=\"14.00\">samples = 44</text>\r\n<text text-anchor=\"middle\" x=\"741.5\" y=\"-134.3\" font-family=\"Helvetica,sans-Serif\" font-size=\"14.00\">value = [44, 0, 0]</text>\r\n<text text-anchor=\"middle\" x=\"741.5\" y=\"-119.3\" font-family=\"Helvetica,sans-Serif\" font-size=\"14.00\">class = 琴酒</text>\r\n</g>\r\n<!-- 12&#45;&gt;14 -->\r\n<g id=\"edge14\" class=\"edge\"><title>12&#45;&gt;14</title>\r\n<path fill=\"none\" stroke=\"black\" d=\"M653.991,-222.907C667.513,-211.101 682.269,-198.217 695.746,-186.45\"/>\r\n<polygon fill=\"black\" stroke=\"black\" points=\"698.283,-188.881 703.514,-179.667 693.679,-183.608 698.283,-188.881\"/>\r\n</g>\r\n</g>\r\n</svg>\r\n"
                    },
                    "metadata": {},
                    "execution_count": 5
                }
            ],
            "metadata": {}
        },
        {
            "cell_type": "code",
            "execution_count": 6,
            "source": [
                "# 特征的重要性\r\n",
                "clf.feature_importances_\r\n",
                "[*zip(feature_names,clf.feature_importances_)]"
            ],
            "outputs": [
                {
                    "output_type": "execute_result",
                    "data": {
                        "text/plain": [
                            "[('酒精', 0.0),\n",
                            " ('苹果酸', 0.0),\n",
                            " ('灰', 0.0),\n",
                            " ('灰的碱性', 0.07202041836345392),\n",
                            " ('镁', 0.0),\n",
                            " ('总酚', 0.0),\n",
                            " ('类黄酮', 0.20391469337201965),\n",
                            " ('非黄烷类酚类', 0.0),\n",
                            " ('花青素', 0.0),\n",
                            " ('颜色强度', 0.03565685560406426),\n",
                            " ('色调', 0.0),\n",
                            " ('od280/od315稀释葡萄酒', 0.2533884722158998),\n",
                            " ('脯氨酸', 0.4350195604445623)]"
                        ]
                    },
                    "metadata": {},
                    "execution_count": 6
                }
            ],
            "metadata": {}
        },
        {
            "cell_type": "markdown",
            "source": [
                "在只了解一个参数的情况下，建立了一棵完整的决策树。但是回到建立模型的步骤，score会在某个值附近波动，引起步骤5中画出来的每一棵树都不一样。它为什么会不稳定呢？如果使用其他数据集，它还会不稳定吗？<br>\r\n",
                "无论决策树模型如何进化，在分枝上的本质都还是追求某个不纯度相关的指标的优化，不纯度是基于节点来计算的，也就是说，决策树在建树时，是靠优化节点来追求一棵优化的树，但最优的节点却不能够保证最优的树。集成算法被用来解决这个问题：<br>\r\n",
                "sklearn表示，既然一棵树不能保证最优，那就建更多的不同的树，然后从中取最好的。怎样从一组数据集中建不同的树？在每次分枝时，不从使用全部特征，而是随机选取一部分特征，从中选取不纯度相关指标最优的作为分枝用的节点。这样，每次生成的树也就不同了。"
            ],
            "metadata": {}
        },
        {
            "cell_type": "code",
            "execution_count": 7,
            "source": [
                "clf = tree.DecisionTreeClassifier(\r\n",
                "    criterion=\"entropy\"\r\n",
                "    ,random_state=30\r\n",
                ")\r\n",
                "clf = clf.fit(Xtrain, Ytrain)\r\n",
                "score = clf.score(Xtest, Ytest) #返回预测的准确度\r\n",
                "score"
            ],
            "outputs": [
                {
                    "output_type": "execute_result",
                    "data": {
                        "text/plain": [
                            "0.9074074074074074"
                        ]
                    },
                    "metadata": {},
                    "execution_count": 7
                }
            ],
            "metadata": {}
        },
        {
            "cell_type": "markdown",
            "source": [
                "random_state用来设置分枝中的随机模式的参数，默认None，在高维度时随机性会表现更明显，低维度的数据（比如鸢尾花数据集），随机性几乎不会显现。输入任意整数，会一直长出同一棵树，让模型稳定下来。<br>\r\n",
                "splitter也是用来控制决策树中的随机选项的，有两种输入值，输入”best\"，决策树在分枝时虽然随机，但是还是会优先选择更重要的特征进行分枝（重要性可以通过属性feature_importances_查看），输入“random\"，决策树在分枝时会更加随机，树会因为含有更多的不必要信息而更深更大，并因这些不必要信息而降低对训练集的拟合。这也是防止过拟合的一种方式。当你预测到你的模型会过拟合，用这两个参数来帮助你降低树建成之后过拟合的可能性。当然，树一旦建成，我们依然是使用剪枝参数来防止过拟合。"
            ],
            "metadata": {}
        },
        {
            "cell_type": "code",
            "execution_count": 8,
            "source": [
                "clf = tree.DecisionTreeClassifier(\r\n",
                "    criterion=\"entropy\"\r\n",
                "    ,random_state=30\r\n",
                "    ,splitter=\"random\"\r\n",
                ")\r\n",
                "clf = clf.fit(Xtrain, Ytrain)\r\n",
                "score = clf.score(Xtest, Ytest)\r\n",
                "print(\"score:\\n\",score)\r\n",
                "import graphviz\r\n",
                "dot_data = tree.export_graphviz(\r\n",
                "    clf\r\n",
                "    ,feature_names= feature_names\r\n",
                "    ,class_names=[\"琴酒\",\"雪莉\",\"贝尔摩德\"]\r\n",
                "    ,filled=True\r\n",
                "    ,rounded=True\r\n",
                ")  \r\n",
                "graph = graphviz.Source(dot_data)\r\n",
                "graph"
            ],
            "outputs": [
                {
                    "output_type": "stream",
                    "name": "stdout",
                    "text": [
                        "score:\n",
                        " 0.9074074074074074\n"
                    ]
                },
                {
                    "output_type": "execute_result",
                    "data": {
                        "text/plain": [
                            "<graphviz.files.Source at 0x16194b05b50>"
                        ],
                        "image/svg+xml": "<?xml version=\"1.0\" encoding=\"UTF-8\" standalone=\"no\"?>\r\n<!DOCTYPE svg PUBLIC \"-//W3C//DTD SVG 1.1//EN\"\r\n \"http://www.w3.org/Graphics/SVG/1.1/DTD/svg11.dtd\">\r\n<!-- Generated by graphviz version 2.38.0 (20140413.2041)\r\n -->\r\n<!-- Title: Tree Pages: 1 -->\r\n<svg width=\"1299pt\" height=\"909pt\"\r\n viewBox=\"0.00 0.00 1299.00 909.00\" xmlns=\"http://www.w3.org/2000/svg\" xmlns:xlink=\"http://www.w3.org/1999/xlink\">\r\n<g id=\"graph0\" class=\"graph\" transform=\"scale(1 1) rotate(0) translate(4 905)\">\r\n<title>Tree</title>\r\n<polygon fill=\"white\" stroke=\"none\" points=\"-4,4 -4,-905 1295,-905 1295,4 -4,4\"/>\r\n<!-- 0 -->\r\n<g id=\"node1\" class=\"node\"><title>0</title>\r\n<path fill=\"#f5fef9\" stroke=\"black\" d=\"M644,-901C644,-901 531,-901 531,-901 525,-901 519,-895 519,-889 519,-889 519,-830 519,-830 519,-824 525,-818 531,-818 531,-818 644,-818 644,-818 650,-818 656,-824 656,-830 656,-830 656,-889 656,-889 656,-895 650,-901 644,-901\"/>\r\n<text text-anchor=\"middle\" x=\"587.5\" y=\"-885.8\" font-family=\"Helvetica,sans-Serif\" font-size=\"14.00\">类黄酮 &lt;= 1.794</text>\r\n<text text-anchor=\"middle\" x=\"587.5\" y=\"-870.8\" font-family=\"Helvetica,sans-Serif\" font-size=\"14.00\">entropy = 1.565</text>\r\n<text text-anchor=\"middle\" x=\"587.5\" y=\"-855.8\" font-family=\"Helvetica,sans-Serif\" font-size=\"14.00\">samples = 124</text>\r\n<text text-anchor=\"middle\" x=\"587.5\" y=\"-840.8\" font-family=\"Helvetica,sans-Serif\" font-size=\"14.00\">value = [44, 48, 32]</text>\r\n<text text-anchor=\"middle\" x=\"587.5\" y=\"-825.8\" font-family=\"Helvetica,sans-Serif\" font-size=\"14.00\">class = 雪莉</text>\r\n</g>\r\n<!-- 1 -->\r\n<g id=\"node2\" class=\"node\"><title>1</title>\r\n<path fill=\"#d8c1f7\" stroke=\"black\" d=\"M563.5,-782C563.5,-782 367.5,-782 367.5,-782 361.5,-782 355.5,-776 355.5,-770 355.5,-770 355.5,-711 355.5,-711 355.5,-705 361.5,-699 367.5,-699 367.5,-699 563.5,-699 563.5,-699 569.5,-699 575.5,-705 575.5,-711 575.5,-711 575.5,-770 575.5,-770 575.5,-776 569.5,-782 563.5,-782\"/>\r\n<text text-anchor=\"middle\" x=\"465.5\" y=\"-766.8\" font-family=\"Helvetica,sans-Serif\" font-size=\"14.00\">od280/od315稀释葡萄酒 &lt;= 2.112</text>\r\n<text text-anchor=\"middle\" x=\"465.5\" y=\"-751.8\" font-family=\"Helvetica,sans-Serif\" font-size=\"14.00\">entropy = 0.975</text>\r\n<text text-anchor=\"middle\" x=\"465.5\" y=\"-736.8\" font-family=\"Helvetica,sans-Serif\" font-size=\"14.00\">samples = 54</text>\r\n<text text-anchor=\"middle\" x=\"465.5\" y=\"-721.8\" font-family=\"Helvetica,sans-Serif\" font-size=\"14.00\">value = [0, 22, 32]</text>\r\n<text text-anchor=\"middle\" x=\"465.5\" y=\"-706.8\" font-family=\"Helvetica,sans-Serif\" font-size=\"14.00\">class = 贝尔摩德</text>\r\n</g>\r\n<!-- 0&#45;&gt;1 -->\r\n<g id=\"edge1\" class=\"edge\"><title>0&#45;&gt;1</title>\r\n<path fill=\"none\" stroke=\"black\" d=\"M545.173,-817.907C535.521,-808.651 525.178,-798.732 515.248,-789.209\"/>\r\n<polygon fill=\"black\" stroke=\"black\" points=\"517.392,-786.416 507.752,-782.021 512.547,-791.469 517.392,-786.416\"/>\r\n<text text-anchor=\"middle\" x=\"508.275\" y=\"-803.315\" font-family=\"Helvetica,sans-Serif\" font-size=\"14.00\">True</text>\r\n</g>\r\n<!-- 18 -->\r\n<g id=\"node19\" class=\"node\"><title>18</title>\r\n<path fill=\"#f4cbae\" stroke=\"black\" d=\"M762,-782C762,-782 657,-782 657,-782 651,-782 645,-776 645,-770 645,-770 645,-711 645,-711 645,-705 651,-699 657,-699 657,-699 762,-699 762,-699 768,-699 774,-705 774,-711 774,-711 774,-770 774,-770 774,-776 768,-782 762,-782\"/>\r\n<text text-anchor=\"middle\" x=\"709.5\" y=\"-766.8\" font-family=\"Helvetica,sans-Serif\" font-size=\"14.00\">镁 &lt;= 91.49</text>\r\n<text text-anchor=\"middle\" x=\"709.5\" y=\"-751.8\" font-family=\"Helvetica,sans-Serif\" font-size=\"14.00\">entropy = 0.952</text>\r\n<text text-anchor=\"middle\" x=\"709.5\" y=\"-736.8\" font-family=\"Helvetica,sans-Serif\" font-size=\"14.00\">samples = 70</text>\r\n<text text-anchor=\"middle\" x=\"709.5\" y=\"-721.8\" font-family=\"Helvetica,sans-Serif\" font-size=\"14.00\">value = [44, 26, 0]</text>\r\n<text text-anchor=\"middle\" x=\"709.5\" y=\"-706.8\" font-family=\"Helvetica,sans-Serif\" font-size=\"14.00\">class = 琴酒</text>\r\n</g>\r\n<!-- 0&#45;&gt;18 -->\r\n<g id=\"edge18\" class=\"edge\"><title>0&#45;&gt;18</title>\r\n<path fill=\"none\" stroke=\"black\" d=\"M629.827,-817.907C639.479,-808.651 649.822,-798.732 659.752,-789.209\"/>\r\n<polygon fill=\"black\" stroke=\"black\" points=\"662.453,-791.469 667.248,-782.021 657.608,-786.416 662.453,-791.469\"/>\r\n<text text-anchor=\"middle\" x=\"666.725\" y=\"-803.315\" font-family=\"Helvetica,sans-Serif\" font-size=\"14.00\">False</text>\r\n</g>\r\n<!-- 2 -->\r\n<g id=\"node3\" class=\"node\"><title>2</title>\r\n<path fill=\"#995fea\" stroke=\"black\" d=\"M312,-663C312,-663 215,-663 215,-663 209,-663 203,-657 203,-651 203,-651 203,-592 203,-592 203,-586 209,-580 215,-580 215,-580 312,-580 312,-580 318,-580 324,-586 324,-592 324,-592 324,-651 324,-651 324,-657 318,-663 312,-663\"/>\r\n<text text-anchor=\"middle\" x=\"263.5\" y=\"-647.8\" font-family=\"Helvetica,sans-Serif\" font-size=\"14.00\">色调 &lt;= 0.973</text>\r\n<text text-anchor=\"middle\" x=\"263.5\" y=\"-632.8\" font-family=\"Helvetica,sans-Serif\" font-size=\"14.00\">entropy = 0.639</text>\r\n<text text-anchor=\"middle\" x=\"263.5\" y=\"-617.8\" font-family=\"Helvetica,sans-Serif\" font-size=\"14.00\">samples = 37</text>\r\n<text text-anchor=\"middle\" x=\"263.5\" y=\"-602.8\" font-family=\"Helvetica,sans-Serif\" font-size=\"14.00\">value = [0, 6, 31]</text>\r\n<text text-anchor=\"middle\" x=\"263.5\" y=\"-587.8\" font-family=\"Helvetica,sans-Serif\" font-size=\"14.00\">class = 贝尔摩德</text>\r\n</g>\r\n<!-- 1&#45;&gt;2 -->\r\n<g id=\"edge2\" class=\"edge\"><title>1&#45;&gt;2</title>\r\n<path fill=\"none\" stroke=\"black\" d=\"M395.417,-698.907C375.168,-687.179 353.084,-674.388 332.878,-662.684\"/>\r\n<polygon fill=\"black\" stroke=\"black\" points=\"334.45,-659.55 324.043,-657.567 330.942,-665.607 334.45,-659.55\"/>\r\n</g>\r\n<!-- 13 -->\r\n<g id=\"node14\" class=\"node\"><title>13</title>\r\n<path fill=\"#45e789\" stroke=\"black\" d=\"M526,-663C526,-663 405,-663 405,-663 399,-663 393,-657 393,-651 393,-651 393,-592 393,-592 393,-586 399,-580 405,-580 405,-580 526,-580 526,-580 532,-580 538,-586 538,-592 538,-592 538,-651 538,-651 538,-657 532,-663 526,-663\"/>\r\n<text text-anchor=\"middle\" x=\"465.5\" y=\"-647.8\" font-family=\"Helvetica,sans-Serif\" font-size=\"14.00\">非黄烷类酚类 &lt;= 0.514</text>\r\n<text text-anchor=\"middle\" x=\"465.5\" y=\"-632.8\" font-family=\"Helvetica,sans-Serif\" font-size=\"14.00\">entropy = 0.323</text>\r\n<text text-anchor=\"middle\" x=\"465.5\" y=\"-617.8\" font-family=\"Helvetica,sans-Serif\" font-size=\"14.00\">samples = 17</text>\r\n<text text-anchor=\"middle\" x=\"465.5\" y=\"-602.8\" font-family=\"Helvetica,sans-Serif\" font-size=\"14.00\">value = [0, 16, 1]</text>\r\n<text text-anchor=\"middle\" x=\"465.5\" y=\"-587.8\" font-family=\"Helvetica,sans-Serif\" font-size=\"14.00\">class = 雪莉</text>\r\n</g>\r\n<!-- 1&#45;&gt;13 -->\r\n<g id=\"edge13\" class=\"edge\"><title>1&#45;&gt;13</title>\r\n<path fill=\"none\" stroke=\"black\" d=\"M465.5,-698.907C465.5,-690.649 465.5,-681.864 465.5,-673.302\"/>\r\n<polygon fill=\"black\" stroke=\"black\" points=\"469,-673.021 465.5,-663.021 462,-673.021 469,-673.021\"/>\r\n</g>\r\n<!-- 3 -->\r\n<g id=\"node4\" class=\"node\"><title>3</title>\r\n<path fill=\"#8946e7\" stroke=\"black\" d=\"M177,-544C177,-544 80,-544 80,-544 74,-544 68,-538 68,-532 68,-532 68,-473 68,-473 68,-467 74,-461 80,-461 80,-461 177,-461 177,-461 183,-461 189,-467 189,-473 189,-473 189,-532 189,-532 189,-538 183,-544 177,-544\"/>\r\n<text text-anchor=\"middle\" x=\"128.5\" y=\"-528.8\" font-family=\"Helvetica,sans-Serif\" font-size=\"14.00\">色调 &lt;= 0.771</text>\r\n<text text-anchor=\"middle\" x=\"128.5\" y=\"-513.8\" font-family=\"Helvetica,sans-Serif\" font-size=\"14.00\">entropy = 0.33</text>\r\n<text text-anchor=\"middle\" x=\"128.5\" y=\"-498.8\" font-family=\"Helvetica,sans-Serif\" font-size=\"14.00\">samples = 33</text>\r\n<text text-anchor=\"middle\" x=\"128.5\" y=\"-483.8\" font-family=\"Helvetica,sans-Serif\" font-size=\"14.00\">value = [0, 2, 31]</text>\r\n<text text-anchor=\"middle\" x=\"128.5\" y=\"-468.8\" font-family=\"Helvetica,sans-Serif\" font-size=\"14.00\">class = 贝尔摩德</text>\r\n</g>\r\n<!-- 2&#45;&gt;3 -->\r\n<g id=\"edge3\" class=\"edge\"><title>2&#45;&gt;3</title>\r\n<path fill=\"none\" stroke=\"black\" d=\"M216.662,-579.907C205.772,-570.469 194.088,-560.343 182.903,-550.649\"/>\r\n<polygon fill=\"black\" stroke=\"black\" points=\"185.104,-547.925 175.255,-544.021 180.519,-553.215 185.104,-547.925\"/>\r\n</g>\r\n<!-- 12 -->\r\n<g id=\"node13\" class=\"node\"><title>12</title>\r\n<path fill=\"#39e581\" stroke=\"black\" d=\"M308,-536.5C308,-536.5 219,-536.5 219,-536.5 213,-536.5 207,-530.5 207,-524.5 207,-524.5 207,-480.5 207,-480.5 207,-474.5 213,-468.5 219,-468.5 219,-468.5 308,-468.5 308,-468.5 314,-468.5 320,-474.5 320,-480.5 320,-480.5 320,-524.5 320,-524.5 320,-530.5 314,-536.5 308,-536.5\"/>\r\n<text text-anchor=\"middle\" x=\"263.5\" y=\"-521.3\" font-family=\"Helvetica,sans-Serif\" font-size=\"14.00\">entropy = 0.0</text>\r\n<text text-anchor=\"middle\" x=\"263.5\" y=\"-506.3\" font-family=\"Helvetica,sans-Serif\" font-size=\"14.00\">samples = 4</text>\r\n<text text-anchor=\"middle\" x=\"263.5\" y=\"-491.3\" font-family=\"Helvetica,sans-Serif\" font-size=\"14.00\">value = [0, 4, 0]</text>\r\n<text text-anchor=\"middle\" x=\"263.5\" y=\"-476.3\" font-family=\"Helvetica,sans-Serif\" font-size=\"14.00\">class = 雪莉</text>\r\n</g>\r\n<!-- 2&#45;&gt;12 -->\r\n<g id=\"edge12\" class=\"edge\"><title>2&#45;&gt;12</title>\r\n<path fill=\"none\" stroke=\"black\" d=\"M263.5,-579.907C263.5,-569.204 263.5,-557.615 263.5,-546.776\"/>\r\n<polygon fill=\"black\" stroke=\"black\" points=\"267,-546.667 263.5,-536.667 260,-546.667 267,-546.667\"/>\r\n</g>\r\n<!-- 4 -->\r\n<g id=\"node5\" class=\"node\"><title>4</title>\r\n<path fill=\"#8139e5\" stroke=\"black\" d=\"M109,-417.5C109,-417.5 12,-417.5 12,-417.5 6,-417.5 0,-411.5 0,-405.5 0,-405.5 0,-361.5 0,-361.5 0,-355.5 6,-349.5 12,-349.5 12,-349.5 109,-349.5 109,-349.5 115,-349.5 121,-355.5 121,-361.5 121,-361.5 121,-405.5 121,-405.5 121,-411.5 115,-417.5 109,-417.5\"/>\r\n<text text-anchor=\"middle\" x=\"60.5\" y=\"-402.3\" font-family=\"Helvetica,sans-Serif\" font-size=\"14.00\">entropy = 0.0</text>\r\n<text text-anchor=\"middle\" x=\"60.5\" y=\"-387.3\" font-family=\"Helvetica,sans-Serif\" font-size=\"14.00\">samples = 24</text>\r\n<text text-anchor=\"middle\" x=\"60.5\" y=\"-372.3\" font-family=\"Helvetica,sans-Serif\" font-size=\"14.00\">value = [0, 0, 24]</text>\r\n<text text-anchor=\"middle\" x=\"60.5\" y=\"-357.3\" font-family=\"Helvetica,sans-Serif\" font-size=\"14.00\">class = 贝尔摩德</text>\r\n</g>\r\n<!-- 3&#45;&gt;4 -->\r\n<g id=\"edge4\" class=\"edge\"><title>3&#45;&gt;4</title>\r\n<path fill=\"none\" stroke=\"black\" d=\"M104.908,-460.907C98.4304,-449.763 91.3953,-437.658 84.8749,-426.439\"/>\r\n<polygon fill=\"black\" stroke=\"black\" points=\"87.8275,-424.554 79.7765,-417.667 81.7754,-428.072 87.8275,-424.554\"/>\r\n</g>\r\n<!-- 5 -->\r\n<g id=\"node6\" class=\"node\"><title>5</title>\r\n<path fill=\"#a572ec\" stroke=\"black\" d=\"M243.5,-425C243.5,-425 151.5,-425 151.5,-425 145.5,-425 139.5,-419 139.5,-413 139.5,-413 139.5,-354 139.5,-354 139.5,-348 145.5,-342 151.5,-342 151.5,-342 243.5,-342 243.5,-342 249.5,-342 255.5,-348 255.5,-354 255.5,-354 255.5,-413 255.5,-413 255.5,-419 249.5,-425 243.5,-425\"/>\r\n<text text-anchor=\"middle\" x=\"197.5\" y=\"-409.8\" font-family=\"Helvetica,sans-Serif\" font-size=\"14.00\">花青素 &lt;= 1.001</text>\r\n<text text-anchor=\"middle\" x=\"197.5\" y=\"-394.8\" font-family=\"Helvetica,sans-Serif\" font-size=\"14.00\">entropy = 0.764</text>\r\n<text text-anchor=\"middle\" x=\"197.5\" y=\"-379.8\" font-family=\"Helvetica,sans-Serif\" font-size=\"14.00\">samples = 9</text>\r\n<text text-anchor=\"middle\" x=\"197.5\" y=\"-364.8\" font-family=\"Helvetica,sans-Serif\" font-size=\"14.00\">value = [0, 2, 7]</text>\r\n<text text-anchor=\"middle\" x=\"197.5\" y=\"-349.8\" font-family=\"Helvetica,sans-Serif\" font-size=\"14.00\">class = 贝尔摩德</text>\r\n</g>\r\n<!-- 3&#45;&gt;5 -->\r\n<g id=\"edge5\" class=\"edge\"><title>3&#45;&gt;5</title>\r\n<path fill=\"none\" stroke=\"black\" d=\"M152.439,-460.907C157.577,-452.195 163.061,-442.897 168.371,-433.893\"/>\r\n<polygon fill=\"black\" stroke=\"black\" points=\"171.538,-435.412 173.603,-425.021 165.508,-431.857 171.538,-435.412\"/>\r\n</g>\r\n<!-- 6 -->\r\n<g id=\"node7\" class=\"node\"><title>6</title>\r\n<path fill=\"#8139e5\" stroke=\"black\" d=\"M176,-298.5C176,-298.5 87,-298.5 87,-298.5 81,-298.5 75,-292.5 75,-286.5 75,-286.5 75,-242.5 75,-242.5 75,-236.5 81,-230.5 87,-230.5 87,-230.5 176,-230.5 176,-230.5 182,-230.5 188,-236.5 188,-242.5 188,-242.5 188,-286.5 188,-286.5 188,-292.5 182,-298.5 176,-298.5\"/>\r\n<text text-anchor=\"middle\" x=\"131.5\" y=\"-283.3\" font-family=\"Helvetica,sans-Serif\" font-size=\"14.00\">entropy = 0.0</text>\r\n<text text-anchor=\"middle\" x=\"131.5\" y=\"-268.3\" font-family=\"Helvetica,sans-Serif\" font-size=\"14.00\">samples = 5</text>\r\n<text text-anchor=\"middle\" x=\"131.5\" y=\"-253.3\" font-family=\"Helvetica,sans-Serif\" font-size=\"14.00\">value = [0, 0, 5]</text>\r\n<text text-anchor=\"middle\" x=\"131.5\" y=\"-238.3\" font-family=\"Helvetica,sans-Serif\" font-size=\"14.00\">class = 贝尔摩德</text>\r\n</g>\r\n<!-- 5&#45;&gt;6 -->\r\n<g id=\"edge6\" class=\"edge\"><title>5&#45;&gt;6</title>\r\n<path fill=\"none\" stroke=\"black\" d=\"M174.602,-341.907C168.315,-330.763 161.487,-318.658 155.158,-307.439\"/>\r\n<polygon fill=\"black\" stroke=\"black\" points=\"158.171,-305.657 150.21,-298.667 152.074,-309.096 158.171,-305.657\"/>\r\n</g>\r\n<!-- 7 -->\r\n<g id=\"node8\" class=\"node\"><title>7</title>\r\n<path fill=\"#ffffff\" stroke=\"black\" d=\"M307,-306C307,-306 218,-306 218,-306 212,-306 206,-300 206,-294 206,-294 206,-235 206,-235 206,-229 212,-223 218,-223 218,-223 307,-223 307,-223 313,-223 319,-229 319,-235 319,-235 319,-294 319,-294 319,-300 313,-306 307,-306\"/>\r\n<text text-anchor=\"middle\" x=\"262.5\" y=\"-290.8\" font-family=\"Helvetica,sans-Serif\" font-size=\"14.00\">镁 &lt;= 102.746</text>\r\n<text text-anchor=\"middle\" x=\"262.5\" y=\"-275.8\" font-family=\"Helvetica,sans-Serif\" font-size=\"14.00\">entropy = 1.0</text>\r\n<text text-anchor=\"middle\" x=\"262.5\" y=\"-260.8\" font-family=\"Helvetica,sans-Serif\" font-size=\"14.00\">samples = 4</text>\r\n<text text-anchor=\"middle\" x=\"262.5\" y=\"-245.8\" font-family=\"Helvetica,sans-Serif\" font-size=\"14.00\">value = [0, 2, 2]</text>\r\n<text text-anchor=\"middle\" x=\"262.5\" y=\"-230.8\" font-family=\"Helvetica,sans-Serif\" font-size=\"14.00\">class = 雪莉</text>\r\n</g>\r\n<!-- 5&#45;&gt;7 -->\r\n<g id=\"edge7\" class=\"edge\"><title>5&#45;&gt;7</title>\r\n<path fill=\"none\" stroke=\"black\" d=\"M220.051,-341.907C224.891,-333.195 230.057,-323.897 235.059,-314.893\"/>\r\n<polygon fill=\"black\" stroke=\"black\" points=\"238.192,-316.462 239.988,-306.021 232.072,-313.063 238.192,-316.462\"/>\r\n</g>\r\n<!-- 8 -->\r\n<g id=\"node9\" class=\"node\"><title>8</title>\r\n<path fill=\"#c09cf2\" stroke=\"black\" d=\"M242.5,-187C242.5,-187 150.5,-187 150.5,-187 144.5,-187 138.5,-181 138.5,-175 138.5,-175 138.5,-116 138.5,-116 138.5,-110 144.5,-104 150.5,-104 150.5,-104 242.5,-104 242.5,-104 248.5,-104 254.5,-110 254.5,-116 254.5,-116 254.5,-175 254.5,-175 254.5,-181 248.5,-187 242.5,-187\"/>\r\n<text text-anchor=\"middle\" x=\"196.5\" y=\"-171.8\" font-family=\"Helvetica,sans-Serif\" font-size=\"14.00\">类黄酮 &lt;= 1.502</text>\r\n<text text-anchor=\"middle\" x=\"196.5\" y=\"-156.8\" font-family=\"Helvetica,sans-Serif\" font-size=\"14.00\">entropy = 0.918</text>\r\n<text text-anchor=\"middle\" x=\"196.5\" y=\"-141.8\" font-family=\"Helvetica,sans-Serif\" font-size=\"14.00\">samples = 3</text>\r\n<text text-anchor=\"middle\" x=\"196.5\" y=\"-126.8\" font-family=\"Helvetica,sans-Serif\" font-size=\"14.00\">value = [0, 1, 2]</text>\r\n<text text-anchor=\"middle\" x=\"196.5\" y=\"-111.8\" font-family=\"Helvetica,sans-Serif\" font-size=\"14.00\">class = 贝尔摩德</text>\r\n</g>\r\n<!-- 7&#45;&gt;8 -->\r\n<g id=\"edge8\" class=\"edge\"><title>7&#45;&gt;8</title>\r\n<path fill=\"none\" stroke=\"black\" d=\"M239.602,-222.907C234.687,-214.195 229.442,-204.897 224.363,-195.893\"/>\r\n<polygon fill=\"black\" stroke=\"black\" points=\"227.32,-194.011 219.358,-187.021 221.223,-197.45 227.32,-194.011\"/>\r\n</g>\r\n<!-- 11 -->\r\n<g id=\"node12\" class=\"node\"><title>11</title>\r\n<path fill=\"#39e581\" stroke=\"black\" d=\"M374,-179.5C374,-179.5 285,-179.5 285,-179.5 279,-179.5 273,-173.5 273,-167.5 273,-167.5 273,-123.5 273,-123.5 273,-117.5 279,-111.5 285,-111.5 285,-111.5 374,-111.5 374,-111.5 380,-111.5 386,-117.5 386,-123.5 386,-123.5 386,-167.5 386,-167.5 386,-173.5 380,-179.5 374,-179.5\"/>\r\n<text text-anchor=\"middle\" x=\"329.5\" y=\"-164.3\" font-family=\"Helvetica,sans-Serif\" font-size=\"14.00\">entropy = 0.0</text>\r\n<text text-anchor=\"middle\" x=\"329.5\" y=\"-149.3\" font-family=\"Helvetica,sans-Serif\" font-size=\"14.00\">samples = 1</text>\r\n<text text-anchor=\"middle\" x=\"329.5\" y=\"-134.3\" font-family=\"Helvetica,sans-Serif\" font-size=\"14.00\">value = [0, 1, 0]</text>\r\n<text text-anchor=\"middle\" x=\"329.5\" y=\"-119.3\" font-family=\"Helvetica,sans-Serif\" font-size=\"14.00\">class = 雪莉</text>\r\n</g>\r\n<!-- 7&#45;&gt;11 -->\r\n<g id=\"edge11\" class=\"edge\"><title>7&#45;&gt;11</title>\r\n<path fill=\"none\" stroke=\"black\" d=\"M285.745,-222.907C292.127,-211.763 299.059,-199.658 305.484,-188.439\"/>\r\n<polygon fill=\"black\" stroke=\"black\" points=\"308.575,-190.084 310.507,-179.667 302.5,-186.606 308.575,-190.084\"/>\r\n</g>\r\n<!-- 9 -->\r\n<g id=\"node10\" class=\"node\"><title>9</title>\r\n<path fill=\"#8139e5\" stroke=\"black\" d=\"M176,-68C176,-68 87,-68 87,-68 81,-68 75,-62 75,-56 75,-56 75,-12 75,-12 75,-6 81,-0 87,-0 87,-0 176,-0 176,-0 182,-0 188,-6 188,-12 188,-12 188,-56 188,-56 188,-62 182,-68 176,-68\"/>\r\n<text text-anchor=\"middle\" x=\"131.5\" y=\"-52.8\" font-family=\"Helvetica,sans-Serif\" font-size=\"14.00\">entropy = 0.0</text>\r\n<text text-anchor=\"middle\" x=\"131.5\" y=\"-37.8\" font-family=\"Helvetica,sans-Serif\" font-size=\"14.00\">samples = 2</text>\r\n<text text-anchor=\"middle\" x=\"131.5\" y=\"-22.8\" font-family=\"Helvetica,sans-Serif\" font-size=\"14.00\">value = [0, 0, 2]</text>\r\n<text text-anchor=\"middle\" x=\"131.5\" y=\"-7.8\" font-family=\"Helvetica,sans-Serif\" font-size=\"14.00\">class = 贝尔摩德</text>\r\n</g>\r\n<!-- 8&#45;&gt;9 -->\r\n<g id=\"edge9\" class=\"edge\"><title>8&#45;&gt;9</title>\r\n<path fill=\"none\" stroke=\"black\" d=\"M172.296,-103.726C167.099,-94.9703 161.598,-85.7032 156.375,-76.9051\"/>\r\n<polygon fill=\"black\" stroke=\"black\" points=\"159.381,-75.1121 151.267,-68.2996 153.362,-78.6853 159.381,-75.1121\"/>\r\n</g>\r\n<!-- 10 -->\r\n<g id=\"node11\" class=\"node\"><title>10</title>\r\n<path fill=\"#39e581\" stroke=\"black\" d=\"M307,-68C307,-68 218,-68 218,-68 212,-68 206,-62 206,-56 206,-56 206,-12 206,-12 206,-6 212,-0 218,-0 218,-0 307,-0 307,-0 313,-0 319,-6 319,-12 319,-12 319,-56 319,-56 319,-62 313,-68 307,-68\"/>\r\n<text text-anchor=\"middle\" x=\"262.5\" y=\"-52.8\" font-family=\"Helvetica,sans-Serif\" font-size=\"14.00\">entropy = 0.0</text>\r\n<text text-anchor=\"middle\" x=\"262.5\" y=\"-37.8\" font-family=\"Helvetica,sans-Serif\" font-size=\"14.00\">samples = 1</text>\r\n<text text-anchor=\"middle\" x=\"262.5\" y=\"-22.8\" font-family=\"Helvetica,sans-Serif\" font-size=\"14.00\">value = [0, 1, 0]</text>\r\n<text text-anchor=\"middle\" x=\"262.5\" y=\"-7.8\" font-family=\"Helvetica,sans-Serif\" font-size=\"14.00\">class = 雪莉</text>\r\n</g>\r\n<!-- 8&#45;&gt;10 -->\r\n<g id=\"edge10\" class=\"edge\"><title>8&#45;&gt;10</title>\r\n<path fill=\"none\" stroke=\"black\" d=\"M221.076,-103.726C226.354,-94.9703 231.939,-85.7032 237.242,-76.9051\"/>\r\n<polygon fill=\"black\" stroke=\"black\" points=\"240.264,-78.671 242.429,-68.2996 234.269,-75.0574 240.264,-78.671\"/>\r\n</g>\r\n<!-- 14 -->\r\n<g id=\"node15\" class=\"node\"><title>14</title>\r\n<path fill=\"#39e581\" stroke=\"black\" d=\"M447,-536.5C447,-536.5 350,-536.5 350,-536.5 344,-536.5 338,-530.5 338,-524.5 338,-524.5 338,-480.5 338,-480.5 338,-474.5 344,-468.5 350,-468.5 350,-468.5 447,-468.5 447,-468.5 453,-468.5 459,-474.5 459,-480.5 459,-480.5 459,-524.5 459,-524.5 459,-530.5 453,-536.5 447,-536.5\"/>\r\n<text text-anchor=\"middle\" x=\"398.5\" y=\"-521.3\" font-family=\"Helvetica,sans-Serif\" font-size=\"14.00\">entropy = 0.0</text>\r\n<text text-anchor=\"middle\" x=\"398.5\" y=\"-506.3\" font-family=\"Helvetica,sans-Serif\" font-size=\"14.00\">samples = 15</text>\r\n<text text-anchor=\"middle\" x=\"398.5\" y=\"-491.3\" font-family=\"Helvetica,sans-Serif\" font-size=\"14.00\">value = [0, 15, 0]</text>\r\n<text text-anchor=\"middle\" x=\"398.5\" y=\"-476.3\" font-family=\"Helvetica,sans-Serif\" font-size=\"14.00\">class = 雪莉</text>\r\n</g>\r\n<!-- 13&#45;&gt;14 -->\r\n<g id=\"edge14\" class=\"edge\"><title>13&#45;&gt;14</title>\r\n<path fill=\"none\" stroke=\"black\" d=\"M442.255,-579.907C435.873,-568.763 428.941,-556.658 422.516,-545.439\"/>\r\n<polygon fill=\"black\" stroke=\"black\" points=\"425.5,-543.606 417.493,-536.667 419.425,-547.084 425.5,-543.606\"/>\r\n</g>\r\n<!-- 15 -->\r\n<g id=\"node16\" class=\"node\"><title>15</title>\r\n<path fill=\"#ffffff\" stroke=\"black\" d=\"M593.5,-544C593.5,-544 489.5,-544 489.5,-544 483.5,-544 477.5,-538 477.5,-532 477.5,-532 477.5,-473 477.5,-473 477.5,-467 483.5,-461 489.5,-461 489.5,-461 593.5,-461 593.5,-461 599.5,-461 605.5,-467 605.5,-473 605.5,-473 605.5,-532 605.5,-532 605.5,-538 599.5,-544 593.5,-544\"/>\r\n<text text-anchor=\"middle\" x=\"541.5\" y=\"-528.8\" font-family=\"Helvetica,sans-Serif\" font-size=\"14.00\">脯氨酸 &lt;= 538.283</text>\r\n<text text-anchor=\"middle\" x=\"541.5\" y=\"-513.8\" font-family=\"Helvetica,sans-Serif\" font-size=\"14.00\">entropy = 1.0</text>\r\n<text text-anchor=\"middle\" x=\"541.5\" y=\"-498.8\" font-family=\"Helvetica,sans-Serif\" font-size=\"14.00\">samples = 2</text>\r\n<text text-anchor=\"middle\" x=\"541.5\" y=\"-483.8\" font-family=\"Helvetica,sans-Serif\" font-size=\"14.00\">value = [0, 1, 1]</text>\r\n<text text-anchor=\"middle\" x=\"541.5\" y=\"-468.8\" font-family=\"Helvetica,sans-Serif\" font-size=\"14.00\">class = 雪莉</text>\r\n</g>\r\n<!-- 13&#45;&gt;15 -->\r\n<g id=\"edge15\" class=\"edge\"><title>13&#45;&gt;15</title>\r\n<path fill=\"none\" stroke=\"black\" d=\"M491.868,-579.907C497.586,-571.105 503.693,-561.703 509.598,-552.612\"/>\r\n<polygon fill=\"black\" stroke=\"black\" points=\"512.667,-554.313 515.179,-544.021 506.796,-550.5 512.667,-554.313\"/>\r\n</g>\r\n<!-- 16 -->\r\n<g id=\"node17\" class=\"node\"><title>16</title>\r\n<path fill=\"#39e581\" stroke=\"black\" d=\"M520,-417.5C520,-417.5 431,-417.5 431,-417.5 425,-417.5 419,-411.5 419,-405.5 419,-405.5 419,-361.5 419,-361.5 419,-355.5 425,-349.5 431,-349.5 431,-349.5 520,-349.5 520,-349.5 526,-349.5 532,-355.5 532,-361.5 532,-361.5 532,-405.5 532,-405.5 532,-411.5 526,-417.5 520,-417.5\"/>\r\n<text text-anchor=\"middle\" x=\"475.5\" y=\"-402.3\" font-family=\"Helvetica,sans-Serif\" font-size=\"14.00\">entropy = 0.0</text>\r\n<text text-anchor=\"middle\" x=\"475.5\" y=\"-387.3\" font-family=\"Helvetica,sans-Serif\" font-size=\"14.00\">samples = 1</text>\r\n<text text-anchor=\"middle\" x=\"475.5\" y=\"-372.3\" font-family=\"Helvetica,sans-Serif\" font-size=\"14.00\">value = [0, 1, 0]</text>\r\n<text text-anchor=\"middle\" x=\"475.5\" y=\"-357.3\" font-family=\"Helvetica,sans-Serif\" font-size=\"14.00\">class = 雪莉</text>\r\n</g>\r\n<!-- 15&#45;&gt;16 -->\r\n<g id=\"edge16\" class=\"edge\"><title>15&#45;&gt;16</title>\r\n<path fill=\"none\" stroke=\"black\" d=\"M518.602,-460.907C512.315,-449.763 505.487,-437.658 499.158,-426.439\"/>\r\n<polygon fill=\"black\" stroke=\"black\" points=\"502.171,-424.657 494.21,-417.667 496.074,-428.096 502.171,-424.657\"/>\r\n</g>\r\n<!-- 17 -->\r\n<g id=\"node18\" class=\"node\"><title>17</title>\r\n<path fill=\"#8139e5\" stroke=\"black\" d=\"M651,-417.5C651,-417.5 562,-417.5 562,-417.5 556,-417.5 550,-411.5 550,-405.5 550,-405.5 550,-361.5 550,-361.5 550,-355.5 556,-349.5 562,-349.5 562,-349.5 651,-349.5 651,-349.5 657,-349.5 663,-355.5 663,-361.5 663,-361.5 663,-405.5 663,-405.5 663,-411.5 657,-417.5 651,-417.5\"/>\r\n<text text-anchor=\"middle\" x=\"606.5\" y=\"-402.3\" font-family=\"Helvetica,sans-Serif\" font-size=\"14.00\">entropy = 0.0</text>\r\n<text text-anchor=\"middle\" x=\"606.5\" y=\"-387.3\" font-family=\"Helvetica,sans-Serif\" font-size=\"14.00\">samples = 1</text>\r\n<text text-anchor=\"middle\" x=\"606.5\" y=\"-372.3\" font-family=\"Helvetica,sans-Serif\" font-size=\"14.00\">value = [0, 0, 1]</text>\r\n<text text-anchor=\"middle\" x=\"606.5\" y=\"-357.3\" font-family=\"Helvetica,sans-Serif\" font-size=\"14.00\">class = 贝尔摩德</text>\r\n</g>\r\n<!-- 15&#45;&gt;17 -->\r\n<g id=\"edge17\" class=\"edge\"><title>15&#45;&gt;17</title>\r\n<path fill=\"none\" stroke=\"black\" d=\"M564.051,-460.907C570.243,-449.763 576.968,-437.658 583.2,-426.439\"/>\r\n<polygon fill=\"black\" stroke=\"black\" points=\"586.277,-428.108 588.074,-417.667 580.158,-424.709 586.277,-428.108\"/>\r\n</g>\r\n<!-- 19 -->\r\n<g id=\"node20\" class=\"node\"><title>19</title>\r\n<path fill=\"#53e892\" stroke=\"black\" d=\"M761.5,-663C761.5,-663 657.5,-663 657.5,-663 651.5,-663 645.5,-657 645.5,-651 645.5,-651 645.5,-592 645.5,-592 645.5,-586 651.5,-580 657.5,-580 657.5,-580 761.5,-580 761.5,-580 767.5,-580 773.5,-586 773.5,-592 773.5,-592 773.5,-651 773.5,-651 773.5,-657 767.5,-663 761.5,-663\"/>\r\n<text text-anchor=\"middle\" x=\"709.5\" y=\"-647.8\" font-family=\"Helvetica,sans-Serif\" font-size=\"14.00\">脯氨酸 &lt;= 816.441</text>\r\n<text text-anchor=\"middle\" x=\"709.5\" y=\"-632.8\" font-family=\"Helvetica,sans-Serif\" font-size=\"14.00\">entropy = 0.523</text>\r\n<text text-anchor=\"middle\" x=\"709.5\" y=\"-617.8\" font-family=\"Helvetica,sans-Serif\" font-size=\"14.00\">samples = 17</text>\r\n<text text-anchor=\"middle\" x=\"709.5\" y=\"-602.8\" font-family=\"Helvetica,sans-Serif\" font-size=\"14.00\">value = [2, 15, 0]</text>\r\n<text text-anchor=\"middle\" x=\"709.5\" y=\"-587.8\" font-family=\"Helvetica,sans-Serif\" font-size=\"14.00\">class = 雪莉</text>\r\n</g>\r\n<!-- 18&#45;&gt;19 -->\r\n<g id=\"edge19\" class=\"edge\"><title>18&#45;&gt;19</title>\r\n<path fill=\"none\" stroke=\"black\" d=\"M709.5,-698.907C709.5,-690.649 709.5,-681.864 709.5,-673.302\"/>\r\n<polygon fill=\"black\" stroke=\"black\" points=\"713,-673.021 709.5,-663.021 706,-673.021 713,-673.021\"/>\r\n</g>\r\n<!-- 22 -->\r\n<g id=\"node23\" class=\"node\"><title>22</title>\r\n<path fill=\"#eca26d\" stroke=\"black\" d=\"M1011,-663C1011,-663 906,-663 906,-663 900,-663 894,-657 894,-651 894,-651 894,-592 894,-592 894,-586 900,-580 906,-580 906,-580 1011,-580 1011,-580 1017,-580 1023,-586 1023,-592 1023,-592 1023,-651 1023,-651 1023,-657 1017,-663 1011,-663\"/>\r\n<text text-anchor=\"middle\" x=\"958.5\" y=\"-647.8\" font-family=\"Helvetica,sans-Serif\" font-size=\"14.00\">酒精 &lt;= 12.861</text>\r\n<text text-anchor=\"middle\" x=\"958.5\" y=\"-632.8\" font-family=\"Helvetica,sans-Serif\" font-size=\"14.00\">entropy = 0.737</text>\r\n<text text-anchor=\"middle\" x=\"958.5\" y=\"-617.8\" font-family=\"Helvetica,sans-Serif\" font-size=\"14.00\">samples = 53</text>\r\n<text text-anchor=\"middle\" x=\"958.5\" y=\"-602.8\" font-family=\"Helvetica,sans-Serif\" font-size=\"14.00\">value = [42, 11, 0]</text>\r\n<text text-anchor=\"middle\" x=\"958.5\" y=\"-587.8\" font-family=\"Helvetica,sans-Serif\" font-size=\"14.00\">class = 琴酒</text>\r\n</g>\r\n<!-- 18&#45;&gt;22 -->\r\n<g id=\"edge22\" class=\"edge\"><title>18&#45;&gt;22</title>\r\n<path fill=\"none\" stroke=\"black\" d=\"M774.272,-709.065C808.002,-693.216 849.398,-673.765 884.4,-657.318\"/>\r\n<polygon fill=\"black\" stroke=\"black\" points=\"886.058,-660.406 893.62,-652.986 883.081,-654.071 886.058,-660.406\"/>\r\n</g>\r\n<!-- 20 -->\r\n<g id=\"node21\" class=\"node\"><title>20</title>\r\n<path fill=\"#39e581\" stroke=\"black\" d=\"M733,-536.5C733,-536.5 636,-536.5 636,-536.5 630,-536.5 624,-530.5 624,-524.5 624,-524.5 624,-480.5 624,-480.5 624,-474.5 630,-468.5 636,-468.5 636,-468.5 733,-468.5 733,-468.5 739,-468.5 745,-474.5 745,-480.5 745,-480.5 745,-524.5 745,-524.5 745,-530.5 739,-536.5 733,-536.5\"/>\r\n<text text-anchor=\"middle\" x=\"684.5\" y=\"-521.3\" font-family=\"Helvetica,sans-Serif\" font-size=\"14.00\">entropy = 0.0</text>\r\n<text text-anchor=\"middle\" x=\"684.5\" y=\"-506.3\" font-family=\"Helvetica,sans-Serif\" font-size=\"14.00\">samples = 15</text>\r\n<text text-anchor=\"middle\" x=\"684.5\" y=\"-491.3\" font-family=\"Helvetica,sans-Serif\" font-size=\"14.00\">value = [0, 15, 0]</text>\r\n<text text-anchor=\"middle\" x=\"684.5\" y=\"-476.3\" font-family=\"Helvetica,sans-Serif\" font-size=\"14.00\">class = 雪莉</text>\r\n</g>\r\n<!-- 19&#45;&gt;20 -->\r\n<g id=\"edge20\" class=\"edge\"><title>19&#45;&gt;20</title>\r\n<path fill=\"none\" stroke=\"black\" d=\"M700.826,-579.907C698.539,-569.204 696.063,-557.615 693.747,-546.776\"/>\r\n<polygon fill=\"black\" stroke=\"black\" points=\"697.099,-545.715 691.587,-536.667 690.254,-547.178 697.099,-545.715\"/>\r\n</g>\r\n<!-- 21 -->\r\n<g id=\"node22\" class=\"node\"><title>21</title>\r\n<path fill=\"#e58139\" stroke=\"black\" d=\"M864,-536.5C864,-536.5 775,-536.5 775,-536.5 769,-536.5 763,-530.5 763,-524.5 763,-524.5 763,-480.5 763,-480.5 763,-474.5 769,-468.5 775,-468.5 775,-468.5 864,-468.5 864,-468.5 870,-468.5 876,-474.5 876,-480.5 876,-480.5 876,-524.5 876,-524.5 876,-530.5 870,-536.5 864,-536.5\"/>\r\n<text text-anchor=\"middle\" x=\"819.5\" y=\"-521.3\" font-family=\"Helvetica,sans-Serif\" font-size=\"14.00\">entropy = 0.0</text>\r\n<text text-anchor=\"middle\" x=\"819.5\" y=\"-506.3\" font-family=\"Helvetica,sans-Serif\" font-size=\"14.00\">samples = 2</text>\r\n<text text-anchor=\"middle\" x=\"819.5\" y=\"-491.3\" font-family=\"Helvetica,sans-Serif\" font-size=\"14.00\">value = [2, 0, 0]</text>\r\n<text text-anchor=\"middle\" x=\"819.5\" y=\"-476.3\" font-family=\"Helvetica,sans-Serif\" font-size=\"14.00\">class = 琴酒</text>\r\n</g>\r\n<!-- 19&#45;&gt;21 -->\r\n<g id=\"edge21\" class=\"edge\"><title>19&#45;&gt;21</title>\r\n<path fill=\"none\" stroke=\"black\" d=\"M747.664,-579.907C758.557,-568.321 770.425,-555.698 781.319,-544.111\"/>\r\n<polygon fill=\"black\" stroke=\"black\" points=\"784.018,-546.35 788.317,-536.667 778.918,-541.555 784.018,-546.35\"/>\r\n</g>\r\n<!-- 23 -->\r\n<g id=\"node24\" class=\"node\"><title>23</title>\r\n<path fill=\"#4de88e\" stroke=\"black\" d=\"M1010.5,-544C1010.5,-544 906.5,-544 906.5,-544 900.5,-544 894.5,-538 894.5,-532 894.5,-532 894.5,-473 894.5,-473 894.5,-467 900.5,-461 906.5,-461 906.5,-461 1010.5,-461 1010.5,-461 1016.5,-461 1022.5,-467 1022.5,-473 1022.5,-473 1022.5,-532 1022.5,-532 1022.5,-538 1016.5,-544 1010.5,-544\"/>\r\n<text text-anchor=\"middle\" x=\"958.5\" y=\"-528.8\" font-family=\"Helvetica,sans-Serif\" font-size=\"14.00\">脯氨酸 &lt;= 792.055</text>\r\n<text text-anchor=\"middle\" x=\"958.5\" y=\"-513.8\" font-family=\"Helvetica,sans-Serif\" font-size=\"14.00\">entropy = 0.439</text>\r\n<text text-anchor=\"middle\" x=\"958.5\" y=\"-498.8\" font-family=\"Helvetica,sans-Serif\" font-size=\"14.00\">samples = 11</text>\r\n<text text-anchor=\"middle\" x=\"958.5\" y=\"-483.8\" font-family=\"Helvetica,sans-Serif\" font-size=\"14.00\">value = [1, 10, 0]</text>\r\n<text text-anchor=\"middle\" x=\"958.5\" y=\"-468.8\" font-family=\"Helvetica,sans-Serif\" font-size=\"14.00\">class = 雪莉</text>\r\n</g>\r\n<!-- 22&#45;&gt;23 -->\r\n<g id=\"edge23\" class=\"edge\"><title>22&#45;&gt;23</title>\r\n<path fill=\"none\" stroke=\"black\" d=\"M958.5,-579.907C958.5,-571.649 958.5,-562.864 958.5,-554.302\"/>\r\n<polygon fill=\"black\" stroke=\"black\" points=\"962,-554.021 958.5,-544.021 955,-554.021 962,-554.021\"/>\r\n</g>\r\n<!-- 26 -->\r\n<g id=\"node27\" class=\"node\"><title>26</title>\r\n<path fill=\"#e6843e\" stroke=\"black\" d=\"M1150.5,-544C1150.5,-544 1052.5,-544 1052.5,-544 1046.5,-544 1040.5,-538 1040.5,-532 1040.5,-532 1040.5,-473 1040.5,-473 1040.5,-467 1046.5,-461 1052.5,-461 1052.5,-461 1150.5,-461 1150.5,-461 1156.5,-461 1162.5,-467 1162.5,-473 1162.5,-473 1162.5,-532 1162.5,-532 1162.5,-538 1156.5,-544 1150.5,-544\"/>\r\n<text text-anchor=\"middle\" x=\"1101.5\" y=\"-528.8\" font-family=\"Helvetica,sans-Serif\" font-size=\"14.00\">灰的碱性 &lt;= 25.15</text>\r\n<text text-anchor=\"middle\" x=\"1101.5\" y=\"-513.8\" font-family=\"Helvetica,sans-Serif\" font-size=\"14.00\">entropy = 0.162</text>\r\n<text text-anchor=\"middle\" x=\"1101.5\" y=\"-498.8\" font-family=\"Helvetica,sans-Serif\" font-size=\"14.00\">samples = 42</text>\r\n<text text-anchor=\"middle\" x=\"1101.5\" y=\"-483.8\" font-family=\"Helvetica,sans-Serif\" font-size=\"14.00\">value = [41, 1, 0]</text>\r\n<text text-anchor=\"middle\" x=\"1101.5\" y=\"-468.8\" font-family=\"Helvetica,sans-Serif\" font-size=\"14.00\">class = 琴酒</text>\r\n</g>\r\n<!-- 22&#45;&gt;26 -->\r\n<g id=\"edge26\" class=\"edge\"><title>22&#45;&gt;26</title>\r\n<path fill=\"none\" stroke=\"black\" d=\"M1008.11,-579.907C1019.76,-570.379 1032.26,-560.148 1044.21,-550.37\"/>\r\n<polygon fill=\"black\" stroke=\"black\" points=\"1046.45,-553.062 1051.97,-544.021 1042.02,-547.644 1046.45,-553.062\"/>\r\n</g>\r\n<!-- 24 -->\r\n<g id=\"node25\" class=\"node\"><title>24</title>\r\n<path fill=\"#39e581\" stroke=\"black\" d=\"M874,-417.5C874,-417.5 777,-417.5 777,-417.5 771,-417.5 765,-411.5 765,-405.5 765,-405.5 765,-361.5 765,-361.5 765,-355.5 771,-349.5 777,-349.5 777,-349.5 874,-349.5 874,-349.5 880,-349.5 886,-355.5 886,-361.5 886,-361.5 886,-405.5 886,-405.5 886,-411.5 880,-417.5 874,-417.5\"/>\r\n<text text-anchor=\"middle\" x=\"825.5\" y=\"-402.3\" font-family=\"Helvetica,sans-Serif\" font-size=\"14.00\">entropy = 0.0</text>\r\n<text text-anchor=\"middle\" x=\"825.5\" y=\"-387.3\" font-family=\"Helvetica,sans-Serif\" font-size=\"14.00\">samples = 10</text>\r\n<text text-anchor=\"middle\" x=\"825.5\" y=\"-372.3\" font-family=\"Helvetica,sans-Serif\" font-size=\"14.00\">value = [0, 10, 0]</text>\r\n<text text-anchor=\"middle\" x=\"825.5\" y=\"-357.3\" font-family=\"Helvetica,sans-Serif\" font-size=\"14.00\">class = 雪莉</text>\r\n</g>\r\n<!-- 23&#45;&gt;24 -->\r\n<g id=\"edge24\" class=\"edge\"><title>23&#45;&gt;24</title>\r\n<path fill=\"none\" stroke=\"black\" d=\"M912.356,-460.907C898.935,-449.101 884.289,-436.217 870.913,-424.45\"/>\r\n<polygon fill=\"black\" stroke=\"black\" points=\"873.023,-421.644 863.203,-417.667 868.399,-426.9 873.023,-421.644\"/>\r\n</g>\r\n<!-- 25 -->\r\n<g id=\"node26\" class=\"node\"><title>25</title>\r\n<path fill=\"#e58139\" stroke=\"black\" d=\"M1005,-417.5C1005,-417.5 916,-417.5 916,-417.5 910,-417.5 904,-411.5 904,-405.5 904,-405.5 904,-361.5 904,-361.5 904,-355.5 910,-349.5 916,-349.5 916,-349.5 1005,-349.5 1005,-349.5 1011,-349.5 1017,-355.5 1017,-361.5 1017,-361.5 1017,-405.5 1017,-405.5 1017,-411.5 1011,-417.5 1005,-417.5\"/>\r\n<text text-anchor=\"middle\" x=\"960.5\" y=\"-402.3\" font-family=\"Helvetica,sans-Serif\" font-size=\"14.00\">entropy = 0.0</text>\r\n<text text-anchor=\"middle\" x=\"960.5\" y=\"-387.3\" font-family=\"Helvetica,sans-Serif\" font-size=\"14.00\">samples = 1</text>\r\n<text text-anchor=\"middle\" x=\"960.5\" y=\"-372.3\" font-family=\"Helvetica,sans-Serif\" font-size=\"14.00\">value = [1, 0, 0]</text>\r\n<text text-anchor=\"middle\" x=\"960.5\" y=\"-357.3\" font-family=\"Helvetica,sans-Serif\" font-size=\"14.00\">class = 琴酒</text>\r\n</g>\r\n<!-- 23&#45;&gt;25 -->\r\n<g id=\"edge25\" class=\"edge\"><title>23&#45;&gt;25</title>\r\n<path fill=\"none\" stroke=\"black\" d=\"M959.194,-460.907C959.377,-450.204 959.575,-438.615 959.76,-427.776\"/>\r\n<polygon fill=\"black\" stroke=\"black\" points=\"963.262,-427.725 959.933,-417.667 956.263,-427.606 963.262,-427.725\"/>\r\n</g>\r\n<!-- 27 -->\r\n<g id=\"node28\" class=\"node\"><title>27</title>\r\n<path fill=\"#e58139\" stroke=\"black\" d=\"M1148,-417.5C1148,-417.5 1051,-417.5 1051,-417.5 1045,-417.5 1039,-411.5 1039,-405.5 1039,-405.5 1039,-361.5 1039,-361.5 1039,-355.5 1045,-349.5 1051,-349.5 1051,-349.5 1148,-349.5 1148,-349.5 1154,-349.5 1160,-355.5 1160,-361.5 1160,-361.5 1160,-405.5 1160,-405.5 1160,-411.5 1154,-417.5 1148,-417.5\"/>\r\n<text text-anchor=\"middle\" x=\"1099.5\" y=\"-402.3\" font-family=\"Helvetica,sans-Serif\" font-size=\"14.00\">entropy = 0.0</text>\r\n<text text-anchor=\"middle\" x=\"1099.5\" y=\"-387.3\" font-family=\"Helvetica,sans-Serif\" font-size=\"14.00\">samples = 41</text>\r\n<text text-anchor=\"middle\" x=\"1099.5\" y=\"-372.3\" font-family=\"Helvetica,sans-Serif\" font-size=\"14.00\">value = [41, 0, 0]</text>\r\n<text text-anchor=\"middle\" x=\"1099.5\" y=\"-357.3\" font-family=\"Helvetica,sans-Serif\" font-size=\"14.00\">class = 琴酒</text>\r\n</g>\r\n<!-- 26&#45;&gt;27 -->\r\n<g id=\"edge27\" class=\"edge\"><title>26&#45;&gt;27</title>\r\n<path fill=\"none\" stroke=\"black\" d=\"M1100.81,-460.907C1100.62,-450.204 1100.43,-438.615 1100.24,-427.776\"/>\r\n<polygon fill=\"black\" stroke=\"black\" points=\"1103.74,-427.606 1100.07,-417.667 1096.74,-427.725 1103.74,-427.606\"/>\r\n</g>\r\n<!-- 28 -->\r\n<g id=\"node29\" class=\"node\"><title>28</title>\r\n<path fill=\"#39e581\" stroke=\"black\" d=\"M1279,-417.5C1279,-417.5 1190,-417.5 1190,-417.5 1184,-417.5 1178,-411.5 1178,-405.5 1178,-405.5 1178,-361.5 1178,-361.5 1178,-355.5 1184,-349.5 1190,-349.5 1190,-349.5 1279,-349.5 1279,-349.5 1285,-349.5 1291,-355.5 1291,-361.5 1291,-361.5 1291,-405.5 1291,-405.5 1291,-411.5 1285,-417.5 1279,-417.5\"/>\r\n<text text-anchor=\"middle\" x=\"1234.5\" y=\"-402.3\" font-family=\"Helvetica,sans-Serif\" font-size=\"14.00\">entropy = 0.0</text>\r\n<text text-anchor=\"middle\" x=\"1234.5\" y=\"-387.3\" font-family=\"Helvetica,sans-Serif\" font-size=\"14.00\">samples = 1</text>\r\n<text text-anchor=\"middle\" x=\"1234.5\" y=\"-372.3\" font-family=\"Helvetica,sans-Serif\" font-size=\"14.00\">value = [0, 1, 0]</text>\r\n<text text-anchor=\"middle\" x=\"1234.5\" y=\"-357.3\" font-family=\"Helvetica,sans-Serif\" font-size=\"14.00\">class = 雪莉</text>\r\n</g>\r\n<!-- 26&#45;&gt;28 -->\r\n<g id=\"edge28\" class=\"edge\"><title>26&#45;&gt;28</title>\r\n<path fill=\"none\" stroke=\"black\" d=\"M1147.64,-460.907C1161.07,-449.101 1175.71,-436.217 1189.09,-424.45\"/>\r\n<polygon fill=\"black\" stroke=\"black\" points=\"1191.6,-426.9 1196.8,-417.667 1186.98,-421.644 1191.6,-426.9\"/>\r\n</g>\r\n</g>\r\n</svg>\r\n"
                    },
                    "metadata": {},
                    "execution_count": 8
                }
            ],
            "metadata": {}
        },
        {
            "cell_type": "markdown",
            "source": [
                "在不加限制的情况下，一棵决策树会生长到衡量不纯度的指标最优，或者没有更多的特征可用为止。这样的决策树往往会过拟合，这就是说，它会在训练集上表现很好，在测试集上却表现糟糕。我们收集的样本数据不可能和整体的状况完全一致，因此当一棵决策树对训练数据有了过于优秀的解释性，它找出的规则必然包含了训练样本中的噪声，并使它对未知数据的拟合程度不足。"
            ],
            "metadata": {}
        },
        {
            "cell_type": "code",
            "execution_count": 9,
            "source": [
                "# 我们的树对训练集的拟合程度如何？\r\n",
                "score_train = clf.score(Xtrain, Ytrain)\r\n",
                "score_train"
            ],
            "outputs": [
                {
                    "output_type": "execute_result",
                    "data": {
                        "text/plain": [
                            "1.0"
                        ]
                    },
                    "metadata": {},
                    "execution_count": 9
                }
            ],
            "metadata": {}
        },
        {
            "cell_type": "markdown",
            "source": [
                "为了让决策树有更好的泛化性，我们要对决策树进行剪枝。剪枝策略对决策树的影响巨大，正确的剪枝策略是优化\r\n",
                "\r\n",
                "决策树算法的核心。sklearn为我们提供了不同的剪枝策略：\r\n",
                "\r\n",
                "* max_depth\r\n",
                "\r\n",
                "限制树的最大深度，超过设定深度的树枝全部剪掉\r\n",
                "\r\n",
                "这是用得最广泛的剪枝参数，在高维度低样本量时非常有效。决策树多生长一层，对样本量的需求会增加一倍，所以限制树深度能够有效地限制过拟合。在集成算法中也非常实用。实际使用时，建议从=3开始尝试，看看拟合的效果再决定是否增加设定深度。\r\n",
                "\r\n",
                "* min_samples_leaf & min_samples_split\r\n",
                "\r\n",
                "min_samples_leaf限定，一个节点在分枝后的每个子节点都必须包含至少min_samples_leaf个训练样本，否则分枝就不会发生，或者，分枝会朝着满足每个子节点都包含min_samples_leaf个样本的方向去发生\r\n",
                "\r\n",
                "一般搭配max_depth使用，在回归树中有神奇的效果，可以让模型变得更加平滑。这个参数的数量设置得太小会引起过拟合，设置得太大就会阻止模型学习数据。一般来说，建议从=5开始使用。如果叶节点中含有的样本量变化很大，建议输入浮点数作为样本量的百分比来使用。同时，这个参数可以保证每个叶子的最小尺寸，可以在回归问题中避免低方差，过拟合的叶子节点出现。对于类别不多的分类问题，=1通常就是最佳选择。\r\n",
                "\r\n",
                "min_samples_split限定，一个节点必须要包含至少min_samples_split个训练样本，这个节点才允许被分枝，否则分枝就不会发生。\r\n"
            ],
            "metadata": {}
        },
        {
            "cell_type": "code",
            "execution_count": 10,
            "source": [
                "clf = tree.DecisionTreeClassifier(\r\n",
                "    criterion=\"entropy\"\r\n",
                "    ,random_state=30\r\n",
                "    ,splitter=\"random\"\r\n",
                "    ,max_depth=3\r\n",
                "    ,min_samples_leaf=10\r\n",
                "    ,min_samples_split=10\r\n",
                "                                 )\r\n",
                "clf = clf.fit(Xtrain, Ytrain)\r\n",
                "dot_data = tree.export_graphviz(\r\n",
                "    clf\r\n",
                "    ,feature_names= feature_names\r\n",
                "    ,class_names=[\"琴酒\",\"雪莉\",\"贝尔摩德\"]\r\n",
                "    ,filled=True\r\n",
                "    ,rounded=True\r\n",
                "                               )  \r\n",
                "graph = graphviz.Source(dot_data)\r\n",
                "print(clf.score(Xtrain,Ytrain))\r\n",
                "print(clf.score(Xtest,Ytest))\r\n",
                "graph\r\n"
            ],
            "outputs": [
                {
                    "output_type": "stream",
                    "name": "stdout",
                    "text": [
                        "0.8387096774193549\n",
                        "0.7962962962962963\n"
                    ]
                },
                {
                    "output_type": "execute_result",
                    "data": {
                        "text/plain": [
                            "<graphviz.files.Source at 0x1619860a940>"
                        ],
                        "image/svg+xml": "<?xml version=\"1.0\" encoding=\"UTF-8\" standalone=\"no\"?>\r\n<!DOCTYPE svg PUBLIC \"-//W3C//DTD SVG 1.1//EN\"\r\n \"http://www.w3.org/Graphics/SVG/1.1/DTD/svg11.dtd\">\r\n<!-- Generated by graphviz version 2.38.0 (20140413.2041)\r\n -->\r\n<!-- Title: Tree Pages: 1 -->\r\n<svg width=\"765pt\" height=\"433pt\"\r\n viewBox=\"0.00 0.00 765.00 433.00\" xmlns=\"http://www.w3.org/2000/svg\" xmlns:xlink=\"http://www.w3.org/1999/xlink\">\r\n<g id=\"graph0\" class=\"graph\" transform=\"scale(1 1) rotate(0) translate(4 429)\">\r\n<title>Tree</title>\r\n<polygon fill=\"white\" stroke=\"none\" points=\"-4,4 -4,-429 761,-429 761,4 -4,4\"/>\r\n<!-- 0 -->\r\n<g id=\"node1\" class=\"node\"><title>0</title>\r\n<path fill=\"#f5fef9\" stroke=\"black\" d=\"M457,-425C457,-425 344,-425 344,-425 338,-425 332,-419 332,-413 332,-413 332,-354 332,-354 332,-348 338,-342 344,-342 344,-342 457,-342 457,-342 463,-342 469,-348 469,-354 469,-354 469,-413 469,-413 469,-419 463,-425 457,-425\"/>\r\n<text text-anchor=\"middle\" x=\"400.5\" y=\"-409.8\" font-family=\"Helvetica,sans-Serif\" font-size=\"14.00\">类黄酮 &lt;= 1.794</text>\r\n<text text-anchor=\"middle\" x=\"400.5\" y=\"-394.8\" font-family=\"Helvetica,sans-Serif\" font-size=\"14.00\">entropy = 1.565</text>\r\n<text text-anchor=\"middle\" x=\"400.5\" y=\"-379.8\" font-family=\"Helvetica,sans-Serif\" font-size=\"14.00\">samples = 124</text>\r\n<text text-anchor=\"middle\" x=\"400.5\" y=\"-364.8\" font-family=\"Helvetica,sans-Serif\" font-size=\"14.00\">value = [44, 48, 32]</text>\r\n<text text-anchor=\"middle\" x=\"400.5\" y=\"-349.8\" font-family=\"Helvetica,sans-Serif\" font-size=\"14.00\">class = 雪莉</text>\r\n</g>\r\n<!-- 1 -->\r\n<g id=\"node2\" class=\"node\"><title>1</title>\r\n<path fill=\"#d8c1f7\" stroke=\"black\" d=\"M402.5,-306C402.5,-306 206.5,-306 206.5,-306 200.5,-306 194.5,-300 194.5,-294 194.5,-294 194.5,-235 194.5,-235 194.5,-229 200.5,-223 206.5,-223 206.5,-223 402.5,-223 402.5,-223 408.5,-223 414.5,-229 414.5,-235 414.5,-235 414.5,-294 414.5,-294 414.5,-300 408.5,-306 402.5,-306\"/>\r\n<text text-anchor=\"middle\" x=\"304.5\" y=\"-290.8\" font-family=\"Helvetica,sans-Serif\" font-size=\"14.00\">od280/od315稀释葡萄酒 &lt;= 2.112</text>\r\n<text text-anchor=\"middle\" x=\"304.5\" y=\"-275.8\" font-family=\"Helvetica,sans-Serif\" font-size=\"14.00\">entropy = 0.975</text>\r\n<text text-anchor=\"middle\" x=\"304.5\" y=\"-260.8\" font-family=\"Helvetica,sans-Serif\" font-size=\"14.00\">samples = 54</text>\r\n<text text-anchor=\"middle\" x=\"304.5\" y=\"-245.8\" font-family=\"Helvetica,sans-Serif\" font-size=\"14.00\">value = [0, 22, 32]</text>\r\n<text text-anchor=\"middle\" x=\"304.5\" y=\"-230.8\" font-family=\"Helvetica,sans-Serif\" font-size=\"14.00\">class = 贝尔摩德</text>\r\n</g>\r\n<!-- 0&#45;&gt;1 -->\r\n<g id=\"edge1\" class=\"edge\"><title>0&#45;&gt;1</title>\r\n<path fill=\"none\" stroke=\"black\" d=\"M367.193,-341.907C359.747,-332.832 351.779,-323.121 344.106,-313.769\"/>\r\n<polygon fill=\"black\" stroke=\"black\" points=\"346.797,-311.531 337.748,-306.021 341.385,-315.972 346.797,-311.531\"/>\r\n<text text-anchor=\"middle\" x=\"335.295\" y=\"-327.2\" font-family=\"Helvetica,sans-Serif\" font-size=\"14.00\">True</text>\r\n</g>\r\n<!-- 6 -->\r\n<g id=\"node7\" class=\"node\"><title>6</title>\r\n<path fill=\"#f4cbae\" stroke=\"black\" d=\"M550,-306C550,-306 445,-306 445,-306 439,-306 433,-300 433,-294 433,-294 433,-235 433,-235 433,-229 439,-223 445,-223 445,-223 550,-223 550,-223 556,-223 562,-229 562,-235 562,-235 562,-294 562,-294 562,-300 556,-306 550,-306\"/>\r\n<text text-anchor=\"middle\" x=\"497.5\" y=\"-290.8\" font-family=\"Helvetica,sans-Serif\" font-size=\"14.00\">脯氨酸 &lt;= 459.54</text>\r\n<text text-anchor=\"middle\" x=\"497.5\" y=\"-275.8\" font-family=\"Helvetica,sans-Serif\" font-size=\"14.00\">entropy = 0.952</text>\r\n<text text-anchor=\"middle\" x=\"497.5\" y=\"-260.8\" font-family=\"Helvetica,sans-Serif\" font-size=\"14.00\">samples = 70</text>\r\n<text text-anchor=\"middle\" x=\"497.5\" y=\"-245.8\" font-family=\"Helvetica,sans-Serif\" font-size=\"14.00\">value = [44, 26, 0]</text>\r\n<text text-anchor=\"middle\" x=\"497.5\" y=\"-230.8\" font-family=\"Helvetica,sans-Serif\" font-size=\"14.00\">class = 琴酒</text>\r\n</g>\r\n<!-- 0&#45;&gt;6 -->\r\n<g id=\"edge6\" class=\"edge\"><title>0&#45;&gt;6</title>\r\n<path fill=\"none\" stroke=\"black\" d=\"M434.154,-341.907C441.677,-332.832 449.729,-323.121 457.482,-313.769\"/>\r\n<polygon fill=\"black\" stroke=\"black\" points=\"460.218,-315.953 463.906,-306.021 454.829,-311.485 460.218,-315.953\"/>\r\n<text text-anchor=\"middle\" x=\"466.232\" y=\"-327.212\" font-family=\"Helvetica,sans-Serif\" font-size=\"14.00\">False</text>\r\n</g>\r\n<!-- 2 -->\r\n<g id=\"node3\" class=\"node\"><title>2</title>\r\n<path fill=\"#995fea\" stroke=\"black\" d=\"M227.5,-187C227.5,-187 31.5,-187 31.5,-187 25.5,-187 19.5,-181 19.5,-175 19.5,-175 19.5,-116 19.5,-116 19.5,-110 25.5,-104 31.5,-104 31.5,-104 227.5,-104 227.5,-104 233.5,-104 239.5,-110 239.5,-116 239.5,-116 239.5,-175 239.5,-175 239.5,-181 233.5,-187 227.5,-187\"/>\r\n<text text-anchor=\"middle\" x=\"129.5\" y=\"-171.8\" font-family=\"Helvetica,sans-Serif\" font-size=\"14.00\">od280/od315稀释葡萄酒 &lt;= 1.532</text>\r\n<text text-anchor=\"middle\" x=\"129.5\" y=\"-156.8\" font-family=\"Helvetica,sans-Serif\" font-size=\"14.00\">entropy = 0.639</text>\r\n<text text-anchor=\"middle\" x=\"129.5\" y=\"-141.8\" font-family=\"Helvetica,sans-Serif\" font-size=\"14.00\">samples = 37</text>\r\n<text text-anchor=\"middle\" x=\"129.5\" y=\"-126.8\" font-family=\"Helvetica,sans-Serif\" font-size=\"14.00\">value = [0, 6, 31]</text>\r\n<text text-anchor=\"middle\" x=\"129.5\" y=\"-111.8\" font-family=\"Helvetica,sans-Serif\" font-size=\"14.00\">class = 贝尔摩德</text>\r\n</g>\r\n<!-- 1&#45;&gt;2 -->\r\n<g id=\"edge2\" class=\"edge\"><title>1&#45;&gt;2</title>\r\n<path fill=\"none\" stroke=\"black\" d=\"M243.785,-222.907C229.261,-213.197 213.647,-202.758 198.769,-192.811\"/>\r\n<polygon fill=\"black\" stroke=\"black\" points=\"200.367,-189.669 190.108,-187.021 196.476,-195.488 200.367,-189.669\"/>\r\n</g>\r\n<!-- 5 -->\r\n<g id=\"node6\" class=\"node\"><title>5</title>\r\n<path fill=\"#45e789\" stroke=\"black\" d=\"M367,-179.5C367,-179.5 270,-179.5 270,-179.5 264,-179.5 258,-173.5 258,-167.5 258,-167.5 258,-123.5 258,-123.5 258,-117.5 264,-111.5 270,-111.5 270,-111.5 367,-111.5 367,-111.5 373,-111.5 379,-117.5 379,-123.5 379,-123.5 379,-167.5 379,-167.5 379,-173.5 373,-179.5 367,-179.5\"/>\r\n<text text-anchor=\"middle\" x=\"318.5\" y=\"-164.3\" font-family=\"Helvetica,sans-Serif\" font-size=\"14.00\">entropy = 0.323</text>\r\n<text text-anchor=\"middle\" x=\"318.5\" y=\"-149.3\" font-family=\"Helvetica,sans-Serif\" font-size=\"14.00\">samples = 17</text>\r\n<text text-anchor=\"middle\" x=\"318.5\" y=\"-134.3\" font-family=\"Helvetica,sans-Serif\" font-size=\"14.00\">value = [0, 16, 1]</text>\r\n<text text-anchor=\"middle\" x=\"318.5\" y=\"-119.3\" font-family=\"Helvetica,sans-Serif\" font-size=\"14.00\">class = 雪莉</text>\r\n</g>\r\n<!-- 1&#45;&gt;5 -->\r\n<g id=\"edge5\" class=\"edge\"><title>1&#45;&gt;5</title>\r\n<path fill=\"none\" stroke=\"black\" d=\"M309.357,-222.907C310.638,-212.204 312.025,-200.615 313.322,-189.776\"/>\r\n<polygon fill=\"black\" stroke=\"black\" points=\"316.818,-190.012 314.531,-179.667 309.868,-189.18 316.818,-190.012\"/>\r\n</g>\r\n<!-- 3 -->\r\n<g id=\"node4\" class=\"node\"><title>3</title>\r\n<path fill=\"#8139e5\" stroke=\"black\" d=\"M109,-68C109,-68 12,-68 12,-68 6,-68 0,-62 0,-56 0,-56 0,-12 0,-12 0,-6 6,-0 12,-0 12,-0 109,-0 109,-0 115,-0 121,-6 121,-12 121,-12 121,-56 121,-56 121,-62 115,-68 109,-68\"/>\r\n<text text-anchor=\"middle\" x=\"60.5\" y=\"-52.8\" font-family=\"Helvetica,sans-Serif\" font-size=\"14.00\">entropy = 0.0</text>\r\n<text text-anchor=\"middle\" x=\"60.5\" y=\"-37.8\" font-family=\"Helvetica,sans-Serif\" font-size=\"14.00\">samples = 11</text>\r\n<text text-anchor=\"middle\" x=\"60.5\" y=\"-22.8\" font-family=\"Helvetica,sans-Serif\" font-size=\"14.00\">value = [0, 0, 11]</text>\r\n<text text-anchor=\"middle\" x=\"60.5\" y=\"-7.8\" font-family=\"Helvetica,sans-Serif\" font-size=\"14.00\">class = 贝尔摩德</text>\r\n</g>\r\n<!-- 2&#45;&gt;3 -->\r\n<g id=\"edge3\" class=\"edge\"><title>2&#45;&gt;3</title>\r\n<path fill=\"none\" stroke=\"black\" d=\"M103.807,-103.726C98.2895,-94.9703 92.4499,-85.7032 86.9059,-76.9051\"/>\r\n<polygon fill=\"black\" stroke=\"black\" points=\"89.7757,-74.8941 81.4833,-68.2996 83.8534,-78.6259 89.7757,-74.8941\"/>\r\n</g>\r\n<!-- 4 -->\r\n<g id=\"node5\" class=\"node\"><title>4</title>\r\n<path fill=\"#a774ed\" stroke=\"black\" d=\"M248,-68C248,-68 151,-68 151,-68 145,-68 139,-62 139,-56 139,-56 139,-12 139,-12 139,-6 145,-0 151,-0 151,-0 248,-0 248,-0 254,-0 260,-6 260,-12 260,-12 260,-56 260,-56 260,-62 254,-68 248,-68\"/>\r\n<text text-anchor=\"middle\" x=\"199.5\" y=\"-52.8\" font-family=\"Helvetica,sans-Serif\" font-size=\"14.00\">entropy = 0.779</text>\r\n<text text-anchor=\"middle\" x=\"199.5\" y=\"-37.8\" font-family=\"Helvetica,sans-Serif\" font-size=\"14.00\">samples = 26</text>\r\n<text text-anchor=\"middle\" x=\"199.5\" y=\"-22.8\" font-family=\"Helvetica,sans-Serif\" font-size=\"14.00\">value = [0, 6, 20]</text>\r\n<text text-anchor=\"middle\" x=\"199.5\" y=\"-7.8\" font-family=\"Helvetica,sans-Serif\" font-size=\"14.00\">class = 贝尔摩德</text>\r\n</g>\r\n<!-- 2&#45;&gt;4 -->\r\n<g id=\"edge4\" class=\"edge\"><title>2&#45;&gt;4</title>\r\n<path fill=\"none\" stroke=\"black\" d=\"M155.565,-103.726C161.163,-94.9703 167.087,-85.7032 172.711,-76.9051\"/>\r\n<polygon fill=\"black\" stroke=\"black\" points=\"175.775,-78.6103 178.213,-68.2996 169.877,-74.8399 175.775,-78.6103\"/>\r\n</g>\r\n<!-- 7 -->\r\n<g id=\"node8\" class=\"node\"><title>7</title>\r\n<path fill=\"#39e581\" stroke=\"black\" d=\"M533,-179.5C533,-179.5 436,-179.5 436,-179.5 430,-179.5 424,-173.5 424,-167.5 424,-167.5 424,-123.5 424,-123.5 424,-117.5 430,-111.5 436,-111.5 436,-111.5 533,-111.5 533,-111.5 539,-111.5 545,-117.5 545,-123.5 545,-123.5 545,-167.5 545,-167.5 545,-173.5 539,-179.5 533,-179.5\"/>\r\n<text text-anchor=\"middle\" x=\"484.5\" y=\"-164.3\" font-family=\"Helvetica,sans-Serif\" font-size=\"14.00\">entropy = 0.0</text>\r\n<text text-anchor=\"middle\" x=\"484.5\" y=\"-149.3\" font-family=\"Helvetica,sans-Serif\" font-size=\"14.00\">samples = 13</text>\r\n<text text-anchor=\"middle\" x=\"484.5\" y=\"-134.3\" font-family=\"Helvetica,sans-Serif\" font-size=\"14.00\">value = [0, 13, 0]</text>\r\n<text text-anchor=\"middle\" x=\"484.5\" y=\"-119.3\" font-family=\"Helvetica,sans-Serif\" font-size=\"14.00\">class = 雪莉</text>\r\n</g>\r\n<!-- 6&#45;&gt;7 -->\r\n<g id=\"edge7\" class=\"edge\"><title>6&#45;&gt;7</title>\r\n<path fill=\"none\" stroke=\"black\" d=\"M492.99,-222.907C491.8,-212.204 490.513,-200.615 489.308,-189.776\"/>\r\n<polygon fill=\"black\" stroke=\"black\" points=\"492.768,-189.219 488.185,-179.667 485.811,-189.992 492.768,-189.219\"/>\r\n</g>\r\n<!-- 8 -->\r\n<g id=\"node9\" class=\"node\"><title>8</title>\r\n<path fill=\"#eda674\" stroke=\"black\" d=\"M680,-187C680,-187 575,-187 575,-187 569,-187 563,-181 563,-175 563,-175 563,-116 563,-116 563,-110 569,-104 575,-104 575,-104 680,-104 680,-104 686,-104 692,-110 692,-116 692,-116 692,-175 692,-175 692,-181 686,-187 680,-187\"/>\r\n<text text-anchor=\"middle\" x=\"627.5\" y=\"-171.8\" font-family=\"Helvetica,sans-Serif\" font-size=\"14.00\">花青素 &lt;= 2.106</text>\r\n<text text-anchor=\"middle\" x=\"627.5\" y=\"-156.8\" font-family=\"Helvetica,sans-Serif\" font-size=\"14.00\">entropy = 0.775</text>\r\n<text text-anchor=\"middle\" x=\"627.5\" y=\"-141.8\" font-family=\"Helvetica,sans-Serif\" font-size=\"14.00\">samples = 57</text>\r\n<text text-anchor=\"middle\" x=\"627.5\" y=\"-126.8\" font-family=\"Helvetica,sans-Serif\" font-size=\"14.00\">value = [44, 13, 0]</text>\r\n<text text-anchor=\"middle\" x=\"627.5\" y=\"-111.8\" font-family=\"Helvetica,sans-Serif\" font-size=\"14.00\">class = 琴酒</text>\r\n</g>\r\n<!-- 6&#45;&gt;8 -->\r\n<g id=\"edge8\" class=\"edge\"><title>6&#45;&gt;8</title>\r\n<path fill=\"none\" stroke=\"black\" d=\"M542.603,-222.907C552.989,-213.56 564.125,-203.538 574.801,-193.929\"/>\r\n<polygon fill=\"black\" stroke=\"black\" points=\"577.385,-196.312 582.477,-187.021 572.703,-191.109 577.385,-196.312\"/>\r\n</g>\r\n<!-- 9 -->\r\n<g id=\"node10\" class=\"node\"><title>9</title>\r\n<path fill=\"#eca26d\" stroke=\"black\" d=\"M606,-68C606,-68 509,-68 509,-68 503,-68 497,-62 497,-56 497,-56 497,-12 497,-12 497,-6 503,-0 509,-0 509,-0 606,-0 606,-0 612,-0 618,-6 618,-12 618,-12 618,-56 618,-56 618,-62 612,-68 606,-68\"/>\r\n<text text-anchor=\"middle\" x=\"557.5\" y=\"-52.8\" font-family=\"Helvetica,sans-Serif\" font-size=\"14.00\">entropy = 0.74</text>\r\n<text text-anchor=\"middle\" x=\"557.5\" y=\"-37.8\" font-family=\"Helvetica,sans-Serif\" font-size=\"14.00\">samples = 43</text>\r\n<text text-anchor=\"middle\" x=\"557.5\" y=\"-22.8\" font-family=\"Helvetica,sans-Serif\" font-size=\"14.00\">value = [34, 9, 0]</text>\r\n<text text-anchor=\"middle\" x=\"557.5\" y=\"-7.8\" font-family=\"Helvetica,sans-Serif\" font-size=\"14.00\">class = 琴酒</text>\r\n</g>\r\n<!-- 8&#45;&gt;9 -->\r\n<g id=\"edge9\" class=\"edge\"><title>8&#45;&gt;9</title>\r\n<path fill=\"none\" stroke=\"black\" d=\"M601.435,-103.726C595.837,-94.9703 589.913,-85.7032 584.289,-76.9051\"/>\r\n<polygon fill=\"black\" stroke=\"black\" points=\"587.123,-74.8399 578.787,-68.2996 581.225,-78.6103 587.123,-74.8399\"/>\r\n</g>\r\n<!-- 10 -->\r\n<g id=\"node11\" class=\"node\"><title>10</title>\r\n<path fill=\"#efb388\" stroke=\"black\" d=\"M745,-68C745,-68 648,-68 648,-68 642,-68 636,-62 636,-56 636,-56 636,-12 636,-12 636,-6 642,-0 648,-0 648,-0 745,-0 745,-0 751,-0 757,-6 757,-12 757,-12 757,-56 757,-56 757,-62 751,-68 745,-68\"/>\r\n<text text-anchor=\"middle\" x=\"696.5\" y=\"-52.8\" font-family=\"Helvetica,sans-Serif\" font-size=\"14.00\">entropy = 0.863</text>\r\n<text text-anchor=\"middle\" x=\"696.5\" y=\"-37.8\" font-family=\"Helvetica,sans-Serif\" font-size=\"14.00\">samples = 14</text>\r\n<text text-anchor=\"middle\" x=\"696.5\" y=\"-22.8\" font-family=\"Helvetica,sans-Serif\" font-size=\"14.00\">value = [10, 4, 0]</text>\r\n<text text-anchor=\"middle\" x=\"696.5\" y=\"-7.8\" font-family=\"Helvetica,sans-Serif\" font-size=\"14.00\">class = 琴酒</text>\r\n</g>\r\n<!-- 8&#45;&gt;10 -->\r\n<g id=\"edge10\" class=\"edge\"><title>8&#45;&gt;10</title>\r\n<path fill=\"none\" stroke=\"black\" d=\"M653.193,-103.726C658.711,-94.9703 664.55,-85.7032 670.094,-76.9051\"/>\r\n<polygon fill=\"black\" stroke=\"black\" points=\"673.147,-78.6259 675.517,-68.2996 667.224,-74.8941 673.147,-78.6259\"/>\r\n</g>\r\n</g>\r\n</svg>\r\n"
                    },
                    "metadata": {},
                    "execution_count": 10
                }
            ],
            "metadata": {}
        },
        {
            "cell_type": "markdown",
            "source": [
                "* max_features & min_impurity_decrease\r\n",
                "\r\n",
                "一般 max_depth 使用，用作树的”精修“ \r\n",
                "\r\n",
                "max_features 限制分枝时考虑的特征个数，超过限制个数的特征都会被舍弃。和 max_depth 异曲同工，<br>\r\n",
                "max_features 是用来限制高维度数据的过拟合的剪枝参数，但其方法比较暴力，是直接限制可以使用的特征数量而强行使决策树停下的参数，在不知道决策树中的各个特征的重要性的情况下，强行设定这个参数可能会导致模型学习不足。如果希望通过降维的方式防止过拟合，建议使用 PCA，ICA 或者特征选择模块中的降维算法。\r\n",
                "\r\n",
                "min_impurity_decrease 限制信息增益的大小，信息增益小于设定数值的分枝不会发生。这是在0.19版本中更新的功能，在0.19版本之前时使用 min_impurity_split。\r\n",
                "\r\n",
                "* 确认最优的剪枝参数\r\n",
                "\r\n",
                "那具体怎么来确定每个参数填写什么值呢？这时候，我们就要使用确定超参数的曲线来进行判断了，继续使用我们已经训练好的决策树模型 clf。超参数的学习曲线，是一条以超参数的取值为横坐标，模型的度量指标为纵坐标的曲线，它是用来衡量不同超参数取值下模型的表现的线。在我们建好的决策树里，我们的模型度量指标就是 score。\r\n"
            ],
            "metadata": {}
        },
        {
            "cell_type": "code",
            "execution_count": 11,
            "source": [
                "import matplotlib.pyplot as plt\r\n",
                "test = []\r\n",
                "for i in range(10):\r\n",
                "    clf = tree.DecisionTreeClassifier(max_depth=i+1\r\n",
                "                                     ,criterion=\"entropy\"\r\n",
                "                                     ,random_state=30\r\n",
                "                                     ,splitter=\"random\"\r\n",
                "                                     )\r\n",
                "    clf = clf.fit(Xtrain, Ytrain)\r\n",
                "    score = clf.score(Xtest, Ytest)\r\n",
                "    test.append(score)\r\n",
                "plt.plot(range(1,11),test,color=\"red\",label=\"max_depth\")\r\n",
                "plt.legend()\r\n",
                "plt.show()\r\n"
            ],
            "outputs": [],
            "metadata": {}
        },
        {
            "cell_type": "markdown",
            "source": [
                "思考：\r\n",
                "1. 剪枝参数一定能够提升模型在测试集上的表现吗？ - 调参没有绝对的答案，一切都是看数据本身。\r\n",
                "2. 这么多参数，一个个画学习曲线？ - 在泰坦尼克号的案例中，我们会解答这个问题。\r\n",
                "\r\n",
                "无论如何，剪枝参数的默认值会让树无尽地生长，这些树在某些数据集上可能非常巨大，对内存的消耗也非常巨大。所以如果你手中的数据集非常巨大，你已经预测到无论如何你都是要剪枝的，那提前设定这些参数来控制树的复杂性和大小会比较好。\r\n"
            ],
            "metadata": {}
        },
        {
            "cell_type": "markdown",
            "source": [
                "* class_weight & min_weight_fraction_leaf\r\n",
                "\r\n",
                "完成样本标签平衡的参数。样本不平衡是指在一组数据集中，标签的一类天生占有很大的比例。比如说，在银行要判断“一个办了信用卡的人是否会违约”，就是是vs否（1%：99%）的比例。这种分类状况下，即便模型什么也不做，全把结果预测成“否”，正确率也能有99%。因此我们要使用class_weight参数对样本标签进行一定的均衡，给少量的标签更多的权重，让模型更偏向少数类，向捕获少数类的方向建模。该参数默认None，此模式表示自动给与数据集中的所有标签相同的权重。\r\n",
                "\r\n",
                "有了权重之后，样本量就不再是单纯地记录数目，而是受输入的权重影响了，因此这时候剪枝，就需要搭配 min_weight_fraction_leaf 这个基于权重的剪枝参数来使用。另请注意，基于权重的剪枝参数（例如 min_weight_fraction_leaf）将比不知道样本权重的标准（比如 min_samples_leaf）更少偏向主导类。如果样本是加权的，则使用基于权重的预修剪标准来更容易优化树结构，这确保叶节点至少包含样本权重的总和的一小部分."
            ],
            "metadata": {}
        },
        {
            "cell_type": "markdown",
            "source": [
                "### 重要属性和接口\r\n",
                "\r\n",
                "属性是在模型训练之后，能够调用查看的模型的各种性质。对决策树来说，最重要的是 feature_importances_，能够查看各个特征对模型的重要性。\r\n",
                "\r\n",
                "sklearn 中许多算法的接口都是相似的，比如说我们之前已经用到的 fit 和 score，几乎对每个算法都可以使用。除了这两个接口之外，决策树最常用的接口还有 apply 和 predict。apply 中输入测试集返回每个测试样本所在的叶子节点的索引，predict 输入测试集返回每个测试样本的标签。\r\n",
                "\r\n",
                "在这里不得不提的是，所有接口中要求输入 X_train 和 X_test 的部分，输入的特征矩阵必须至少是一个二维矩阵。sklearn 不接受任何一维矩阵作为特征矩阵被输入。如果你的数据的确只有一个特征，那必须用reshape(-1,1)来给矩阵增维；如果你的数据只有一个特征和一个样本，使用reshape(1,-1)来给你的数据增维。至此，我们已经学完了分类树DecisionTreeClassifier和用决策树绘图（export_graphviz）的所有基础。\r\n"
            ],
            "metadata": {}
        },
        {
            "cell_type": "code",
            "execution_count": null,
            "source": [
                "#apply返回每个测试样本所在的叶子节点的索引\r\n",
                "clf.apply(Xtest)\r\n",
                "#predict返回每个测试样本的分类/回归结果\r\n",
                "clf.predict(Xtest)"
            ],
            "outputs": [],
            "metadata": {}
        },
        {
            "cell_type": "markdown",
            "source": [
                "我们讲解了决策树的基本流程，分类树的八个参数，一个属性，四个接口，以及绘图所用的代码。\r\n",
                "\r\n",
                "八个参数：Criterion，两个随机性相关的参数（random_state，splitter），五个剪枝参数（max_depth,min_samples_split，min_samples_leaf，max_feature，min_impurity_decrease）\r\n",
                "\r\n",
                "一个属性：feature_importances_\r\n",
                "\r\n",
                "四个接口：fit，score，apply，predict\r\n",
                "\r\n",
                "有了这些知识，基本上分类树的使用大家都能够掌握了，接下来再到实例中去磨练就好。\r\n"
            ],
            "metadata": {}
        }
    ],
    "metadata": {
        "orig_nbformat": 4,
        "language_info": {
            "name": "python",
            "version": "3.8.10",
            "mimetype": "text/x-python",
            "codemirror_mode": {
                "name": "ipython",
                "version": 3
            },
            "pygments_lexer": "ipython3",
            "nbconvert_exporter": "python",
            "file_extension": ".py"
        },
        "kernelspec": {
            "name": "python3",
            "display_name": "Python 3.8.10 64-bit (conda)"
        },
        "interpreter": {
            "hash": "e90953f8837d6e6ee169187a07441ec8e9f5b5b0a98b2e1c8fa77f86871ddba0"
        }
    },
    "nbformat": 4,
    "nbformat_minor": 2
}